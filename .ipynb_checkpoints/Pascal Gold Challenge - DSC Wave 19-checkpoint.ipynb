{
 "cells": [
  {
   "cell_type": "markdown",
   "id": "c4476742",
   "metadata": {},
   "source": [
    "# Indonesian Abusive and Hate Speech Twitter Text"
   ]
  },
  {
   "cell_type": "markdown",
   "id": "e2bd6e5c",
   "metadata": {},
   "source": [
    "### Table of Content"
   ]
  },
  {
   "cell_type": "markdown",
   "id": "340797e6",
   "metadata": {},
   "source": [
    "1. Background\n",
    "2. Data Features \n",
    "3. Problem Identification\n",
    "4. Import Libraries\n",
    "5. Reading Data\n",
    "6. Statistical Information about the Data\n",
    "7. Data Cleansing\n",
    "8. Exploratory Data Analyst (EDA)"
   ]
  },
  {
   "cell_type": "markdown",
   "id": "4efd152c",
   "metadata": {},
   "source": [
    "### 1. Background"
   ]
  },
  {
   "cell_type": "markdown",
   "id": "09a0a452",
   "metadata": {},
   "source": [
    "### 2. Data Features"
   ]
  },
  {
   "cell_type": "markdown",
   "id": "34e9bbce",
   "metadata": {},
   "source": [
    "- HS : hate speech label\n",
    "- Abusive : abusive language label\n",
    "- HS_Individual : hate speech targeted to an individual\n",
    "- HS_Group : hate speech targeted to a group\n",
    "- HS_Religion : hate speech related to religion/creed\n",
    "- HS_Race : hate speech related to race/ethnicity\n",
    "- HS_Physical : hate speech related to physical/disability\n",
    "- HS_Gender : hate speech related to gender/sexual orientation\n",
    "- HS_Other : hate related to other invective/slander\n",
    "- HS_Weak : weak hate speech\n",
    "- HS_Moderate : moderate hate speech\n",
    "- HS_Strong : strong hate speech"
   ]
  },
  {
   "cell_type": "markdown",
   "id": "e84e161b",
   "metadata": {},
   "source": [
    "### 3. Problem Identification"
   ]
  },
  {
   "cell_type": "markdown",
   "id": "4324b8bc",
   "metadata": {},
   "source": [
    "- Berapa perbandingan antara jumlah tweet yang mengandung kata-kata ujaran kebencian dengan yang tidak mengandung kata-kata ujaran kebencian?\n",
    "- Berapa jumlah perbandingan tweet yang mengandung kata HS dengan Abusive?\n",
    "- Berapa jumlah perbandingan tweet dari masing-masing kategori Hate Speech?\n",
    "- Bagaimana perbandingan jumlah kasus ujaran kebencian yang ditujukan kepada individu (HS_Individual) dengan yang ditargetkan pada suatu grup (HS_Group) dalam rentang waktu tertentu?"
   ]
  },
  {
   "cell_type": "markdown",
   "id": "f358be4b",
   "metadata": {},
   "source": [
    "### Install Libraries"
   ]
  },
  {
   "cell_type": "code",
   "execution_count": null,
   "id": "4b755143",
   "metadata": {},
   "outputs": [],
   "source": [
    "# !pip install pandas\n",
    "# !pip install regex\n",
    "# !pip install seaborn\n",
    "# !pip install matplotlib"
   ]
  },
  {
   "cell_type": "markdown",
   "id": "3b661512",
   "metadata": {},
   "source": [
    "### 4. Import Libraries"
   ]
  },
  {
   "cell_type": "code",
   "execution_count": 1,
   "id": "cf7e62e0",
   "metadata": {},
   "outputs": [
    {
     "name": "stdout",
     "output_type": "stream",
     "text": [
      "done\n"
     ]
    }
   ],
   "source": [
    "import pandas as pd\n",
    "import re\n",
    "import seaborn as sns\n",
    "import matplotlib.pyplot as plt\n",
    "\n",
    "print('done')"
   ]
  },
  {
   "cell_type": "markdown",
   "id": "6b636a6b",
   "metadata": {},
   "source": [
    "### 5. Reading Data"
   ]
  },
  {
   "cell_type": "code",
   "execution_count": 2,
   "id": "98a361f8",
   "metadata": {},
   "outputs": [
    {
     "data": {
      "text/plain": [
       "(13169, 13)"
      ]
     },
     "execution_count": 2,
     "metadata": {},
     "output_type": "execute_result"
    }
   ],
   "source": [
    "data = pd.read_csv('data.csv',encoding='latin-1')\n",
    "data.shape"
   ]
  },
  {
   "cell_type": "code",
   "execution_count": 3,
   "id": "9746b0c8",
   "metadata": {},
   "outputs": [
    {
     "data": {
      "text/html": [
       "<div>\n",
       "<style scoped>\n",
       "    .dataframe tbody tr th:only-of-type {\n",
       "        vertical-align: middle;\n",
       "    }\n",
       "\n",
       "    .dataframe tbody tr th {\n",
       "        vertical-align: top;\n",
       "    }\n",
       "\n",
       "    .dataframe thead th {\n",
       "        text-align: right;\n",
       "    }\n",
       "</style>\n",
       "<table border=\"1\" class=\"dataframe\">\n",
       "  <thead>\n",
       "    <tr style=\"text-align: right;\">\n",
       "      <th></th>\n",
       "      <th>Tweet</th>\n",
       "      <th>HS</th>\n",
       "      <th>Abusive</th>\n",
       "      <th>HS_Individual</th>\n",
       "      <th>HS_Group</th>\n",
       "      <th>HS_Religion</th>\n",
       "      <th>HS_Race</th>\n",
       "      <th>HS_Physical</th>\n",
       "      <th>HS_Gender</th>\n",
       "      <th>HS_Other</th>\n",
       "      <th>HS_Weak</th>\n",
       "      <th>HS_Moderate</th>\n",
       "      <th>HS_Strong</th>\n",
       "    </tr>\n",
       "  </thead>\n",
       "  <tbody>\n",
       "    <tr>\n",
       "      <th>0</th>\n",
       "      <td>- disaat semua cowok berusaha melacak perhatia...</td>\n",
       "      <td>1</td>\n",
       "      <td>1</td>\n",
       "      <td>1</td>\n",
       "      <td>0</td>\n",
       "      <td>0</td>\n",
       "      <td>0</td>\n",
       "      <td>0</td>\n",
       "      <td>0</td>\n",
       "      <td>1</td>\n",
       "      <td>1</td>\n",
       "      <td>0</td>\n",
       "      <td>0</td>\n",
       "    </tr>\n",
       "    <tr>\n",
       "      <th>1</th>\n",
       "      <td>RT USER: USER siapa yang telat ngasih tau elu?...</td>\n",
       "      <td>0</td>\n",
       "      <td>1</td>\n",
       "      <td>0</td>\n",
       "      <td>0</td>\n",
       "      <td>0</td>\n",
       "      <td>0</td>\n",
       "      <td>0</td>\n",
       "      <td>0</td>\n",
       "      <td>0</td>\n",
       "      <td>0</td>\n",
       "      <td>0</td>\n",
       "      <td>0</td>\n",
       "    </tr>\n",
       "    <tr>\n",
       "      <th>2</th>\n",
       "      <td>41. Kadang aku berfikir, kenapa aku tetap perc...</td>\n",
       "      <td>0</td>\n",
       "      <td>0</td>\n",
       "      <td>0</td>\n",
       "      <td>0</td>\n",
       "      <td>0</td>\n",
       "      <td>0</td>\n",
       "      <td>0</td>\n",
       "      <td>0</td>\n",
       "      <td>0</td>\n",
       "      <td>0</td>\n",
       "      <td>0</td>\n",
       "      <td>0</td>\n",
       "    </tr>\n",
       "    <tr>\n",
       "      <th>3</th>\n",
       "      <td>USER USER AKU ITU AKU\\n\\nKU TAU MATAMU SIPIT T...</td>\n",
       "      <td>0</td>\n",
       "      <td>0</td>\n",
       "      <td>0</td>\n",
       "      <td>0</td>\n",
       "      <td>0</td>\n",
       "      <td>0</td>\n",
       "      <td>0</td>\n",
       "      <td>0</td>\n",
       "      <td>0</td>\n",
       "      <td>0</td>\n",
       "      <td>0</td>\n",
       "      <td>0</td>\n",
       "    </tr>\n",
       "    <tr>\n",
       "      <th>4</th>\n",
       "      <td>USER USER Kaum cebong kapir udah keliatan dong...</td>\n",
       "      <td>1</td>\n",
       "      <td>1</td>\n",
       "      <td>0</td>\n",
       "      <td>1</td>\n",
       "      <td>1</td>\n",
       "      <td>0</td>\n",
       "      <td>0</td>\n",
       "      <td>0</td>\n",
       "      <td>0</td>\n",
       "      <td>0</td>\n",
       "      <td>1</td>\n",
       "      <td>0</td>\n",
       "    </tr>\n",
       "  </tbody>\n",
       "</table>\n",
       "</div>"
      ],
      "text/plain": [
       "                                               Tweet  HS  Abusive  \\\n",
       "0  - disaat semua cowok berusaha melacak perhatia...   1        1   \n",
       "1  RT USER: USER siapa yang telat ngasih tau elu?...   0        1   \n",
       "2  41. Kadang aku berfikir, kenapa aku tetap perc...   0        0   \n",
       "3  USER USER AKU ITU AKU\\n\\nKU TAU MATAMU SIPIT T...   0        0   \n",
       "4  USER USER Kaum cebong kapir udah keliatan dong...   1        1   \n",
       "\n",
       "   HS_Individual  HS_Group  HS_Religion  HS_Race  HS_Physical  HS_Gender  \\\n",
       "0              1         0            0        0            0          0   \n",
       "1              0         0            0        0            0          0   \n",
       "2              0         0            0        0            0          0   \n",
       "3              0         0            0        0            0          0   \n",
       "4              0         1            1        0            0          0   \n",
       "\n",
       "   HS_Other  HS_Weak  HS_Moderate  HS_Strong  \n",
       "0         1        1            0          0  \n",
       "1         0        0            0          0  \n",
       "2         0        0            0          0  \n",
       "3         0        0            0          0  \n",
       "4         0        0            1          0  "
      ]
     },
     "execution_count": 3,
     "metadata": {},
     "output_type": "execute_result"
    }
   ],
   "source": [
    "data.head()"
   ]
  },
  {
   "cell_type": "markdown",
   "id": "3250abd7",
   "metadata": {},
   "source": [
    "### Reading Dataset Kamus Alay"
   ]
  },
  {
   "cell_type": "code",
   "execution_count": 4,
   "id": "8f4c2f27",
   "metadata": {},
   "outputs": [
    {
     "name": "stdout",
     "output_type": "stream",
     "text": [
      "done\n"
     ]
    }
   ],
   "source": [
    "alay_df = pd.read_csv('new_kamusalay.csv', encoding='latin-1', header= None)\n",
    "print('done')"
   ]
  },
  {
   "cell_type": "code",
   "execution_count": 5,
   "id": "b45e9a69",
   "metadata": {},
   "outputs": [
    {
     "data": {
      "text/html": [
       "<div>\n",
       "<style scoped>\n",
       "    .dataframe tbody tr th:only-of-type {\n",
       "        vertical-align: middle;\n",
       "    }\n",
       "\n",
       "    .dataframe tbody tr th {\n",
       "        vertical-align: top;\n",
       "    }\n",
       "\n",
       "    .dataframe thead th {\n",
       "        text-align: right;\n",
       "    }\n",
       "</style>\n",
       "<table border=\"1\" class=\"dataframe\">\n",
       "  <thead>\n",
       "    <tr style=\"text-align: right;\">\n",
       "      <th></th>\n",
       "      <th>0</th>\n",
       "      <th>1</th>\n",
       "    </tr>\n",
       "  </thead>\n",
       "  <tbody>\n",
       "    <tr>\n",
       "      <th>0</th>\n",
       "      <td>anakjakartaasikasik</td>\n",
       "      <td>anak jakarta asyik asyik</td>\n",
       "    </tr>\n",
       "    <tr>\n",
       "      <th>1</th>\n",
       "      <td>pakcikdahtua</td>\n",
       "      <td>pak cik sudah tua</td>\n",
       "    </tr>\n",
       "    <tr>\n",
       "      <th>2</th>\n",
       "      <td>pakcikmudalagi</td>\n",
       "      <td>pak cik muda lagi</td>\n",
       "    </tr>\n",
       "    <tr>\n",
       "      <th>3</th>\n",
       "      <td>t3tapjokowi</td>\n",
       "      <td>tetap jokowi</td>\n",
       "    </tr>\n",
       "    <tr>\n",
       "      <th>4</th>\n",
       "      <td>3x</td>\n",
       "      <td>tiga kali</td>\n",
       "    </tr>\n",
       "    <tr>\n",
       "      <th>...</th>\n",
       "      <td>...</td>\n",
       "      <td>...</td>\n",
       "    </tr>\n",
       "    <tr>\n",
       "      <th>15163</th>\n",
       "      <td>mendag</td>\n",
       "      <td>menteri perdagangan</td>\n",
       "    </tr>\n",
       "    <tr>\n",
       "      <th>15164</th>\n",
       "      <td>menaker</td>\n",
       "      <td>menteri tenaga kerja</td>\n",
       "    </tr>\n",
       "    <tr>\n",
       "      <th>15165</th>\n",
       "      <td>memetwit</td>\n",
       "      <td>mentwit</td>\n",
       "    </tr>\n",
       "    <tr>\n",
       "      <th>15166</th>\n",
       "      <td>megangin</td>\n",
       "      <td>memegang</td>\n",
       "    </tr>\n",
       "    <tr>\n",
       "      <th>15167</th>\n",
       "      <td>gue</td>\n",
       "      <td>aku</td>\n",
       "    </tr>\n",
       "  </tbody>\n",
       "</table>\n",
       "<p>15168 rows × 2 columns</p>\n",
       "</div>"
      ],
      "text/plain": [
       "                         0                         1\n",
       "0      anakjakartaasikasik  anak jakarta asyik asyik\n",
       "1             pakcikdahtua         pak cik sudah tua\n",
       "2           pakcikmudalagi         pak cik muda lagi\n",
       "3              t3tapjokowi              tetap jokowi\n",
       "4                       3x                 tiga kali\n",
       "...                    ...                       ...\n",
       "15163               mendag       menteri perdagangan\n",
       "15164              menaker      menteri tenaga kerja\n",
       "15165             memetwit                   mentwit\n",
       "15166             megangin                  memegang\n",
       "15167                  gue                       aku\n",
       "\n",
       "[15168 rows x 2 columns]"
      ]
     },
     "execution_count": 5,
     "metadata": {},
     "output_type": "execute_result"
    }
   ],
   "source": [
    "alay_df"
   ]
  },
  {
   "cell_type": "code",
   "execution_count": 6,
   "id": "810dbb4b",
   "metadata": {},
   "outputs": [
    {
     "name": "stdout",
     "output_type": "stream",
     "text": [
      "done\n"
     ]
    }
   ],
   "source": [
    "abusive_df = pd.read_csv('abusive.csv', encoding='latin-1')\n",
    "print('done')"
   ]
  },
  {
   "cell_type": "code",
   "execution_count": 7,
   "id": "dd2ec484",
   "metadata": {},
   "outputs": [
    {
     "data": {
      "text/html": [
       "<div>\n",
       "<style scoped>\n",
       "    .dataframe tbody tr th:only-of-type {\n",
       "        vertical-align: middle;\n",
       "    }\n",
       "\n",
       "    .dataframe tbody tr th {\n",
       "        vertical-align: top;\n",
       "    }\n",
       "\n",
       "    .dataframe thead th {\n",
       "        text-align: right;\n",
       "    }\n",
       "</style>\n",
       "<table border=\"1\" class=\"dataframe\">\n",
       "  <thead>\n",
       "    <tr style=\"text-align: right;\">\n",
       "      <th></th>\n",
       "      <th>ABUSIVE</th>\n",
       "    </tr>\n",
       "  </thead>\n",
       "  <tbody>\n",
       "    <tr>\n",
       "      <th>0</th>\n",
       "      <td>alay</td>\n",
       "    </tr>\n",
       "    <tr>\n",
       "      <th>1</th>\n",
       "      <td>ampas</td>\n",
       "    </tr>\n",
       "    <tr>\n",
       "      <th>2</th>\n",
       "      <td>buta</td>\n",
       "    </tr>\n",
       "    <tr>\n",
       "      <th>3</th>\n",
       "      <td>keparat</td>\n",
       "    </tr>\n",
       "    <tr>\n",
       "      <th>4</th>\n",
       "      <td>anjing</td>\n",
       "    </tr>\n",
       "    <tr>\n",
       "      <th>...</th>\n",
       "      <td>...</td>\n",
       "    </tr>\n",
       "    <tr>\n",
       "      <th>120</th>\n",
       "      <td>rezim</td>\n",
       "    </tr>\n",
       "    <tr>\n",
       "      <th>121</th>\n",
       "      <td>sange</td>\n",
       "    </tr>\n",
       "    <tr>\n",
       "      <th>122</th>\n",
       "      <td>serbet</td>\n",
       "    </tr>\n",
       "    <tr>\n",
       "      <th>123</th>\n",
       "      <td>sipit</td>\n",
       "    </tr>\n",
       "    <tr>\n",
       "      <th>124</th>\n",
       "      <td>transgender</td>\n",
       "    </tr>\n",
       "  </tbody>\n",
       "</table>\n",
       "<p>125 rows × 1 columns</p>\n",
       "</div>"
      ],
      "text/plain": [
       "         ABUSIVE\n",
       "0           alay\n",
       "1          ampas\n",
       "2           buta\n",
       "3        keparat\n",
       "4         anjing\n",
       "..           ...\n",
       "120        rezim\n",
       "121        sange\n",
       "122       serbet\n",
       "123        sipit\n",
       "124  transgender\n",
       "\n",
       "[125 rows x 1 columns]"
      ]
     },
     "execution_count": 7,
     "metadata": {},
     "output_type": "execute_result"
    }
   ],
   "source": [
    "abusive_df"
   ]
  },
  {
   "cell_type": "code",
   "execution_count": null,
   "id": "ed28bcda",
   "metadata": {},
   "outputs": [],
   "source": []
  },
  {
   "cell_type": "markdown",
   "id": "4de1820b",
   "metadata": {},
   "source": [
    "### Reading Dataset Abusive"
   ]
  },
  {
   "cell_type": "markdown",
   "id": "dccbe5f8",
   "metadata": {},
   "source": [
    "### 6. Statistical Information about the Data"
   ]
  },
  {
   "cell_type": "code",
   "execution_count": 8,
   "id": "95e9976c",
   "metadata": {},
   "outputs": [
    {
     "data": {
      "text/html": [
       "<div>\n",
       "<style scoped>\n",
       "    .dataframe tbody tr th:only-of-type {\n",
       "        vertical-align: middle;\n",
       "    }\n",
       "\n",
       "    .dataframe tbody tr th {\n",
       "        vertical-align: top;\n",
       "    }\n",
       "\n",
       "    .dataframe thead th {\n",
       "        text-align: right;\n",
       "    }\n",
       "</style>\n",
       "<table border=\"1\" class=\"dataframe\">\n",
       "  <thead>\n",
       "    <tr style=\"text-align: right;\">\n",
       "      <th></th>\n",
       "      <th>HS</th>\n",
       "      <th>Abusive</th>\n",
       "      <th>HS_Individual</th>\n",
       "      <th>HS_Group</th>\n",
       "      <th>HS_Religion</th>\n",
       "      <th>HS_Race</th>\n",
       "      <th>HS_Physical</th>\n",
       "      <th>HS_Gender</th>\n",
       "      <th>HS_Other</th>\n",
       "      <th>HS_Weak</th>\n",
       "      <th>HS_Moderate</th>\n",
       "      <th>HS_Strong</th>\n",
       "    </tr>\n",
       "  </thead>\n",
       "  <tbody>\n",
       "    <tr>\n",
       "      <th>count</th>\n",
       "      <td>13169.000000</td>\n",
       "      <td>13169.000000</td>\n",
       "      <td>13169.000000</td>\n",
       "      <td>13169.000000</td>\n",
       "      <td>13169.000000</td>\n",
       "      <td>13169.000000</td>\n",
       "      <td>13169.000000</td>\n",
       "      <td>13169.000000</td>\n",
       "      <td>13169.000000</td>\n",
       "      <td>13169.000000</td>\n",
       "      <td>13169.000000</td>\n",
       "      <td>13169.000000</td>\n",
       "    </tr>\n",
       "    <tr>\n",
       "      <th>mean</th>\n",
       "      <td>0.422280</td>\n",
       "      <td>0.382945</td>\n",
       "      <td>0.271471</td>\n",
       "      <td>0.150809</td>\n",
       "      <td>0.060217</td>\n",
       "      <td>0.042980</td>\n",
       "      <td>0.024527</td>\n",
       "      <td>0.023236</td>\n",
       "      <td>0.284000</td>\n",
       "      <td>0.256891</td>\n",
       "      <td>0.129471</td>\n",
       "      <td>0.035918</td>\n",
       "    </tr>\n",
       "    <tr>\n",
       "      <th>std</th>\n",
       "      <td>0.493941</td>\n",
       "      <td>0.486123</td>\n",
       "      <td>0.444735</td>\n",
       "      <td>0.357876</td>\n",
       "      <td>0.237898</td>\n",
       "      <td>0.202819</td>\n",
       "      <td>0.154685</td>\n",
       "      <td>0.150659</td>\n",
       "      <td>0.450954</td>\n",
       "      <td>0.436935</td>\n",
       "      <td>0.335733</td>\n",
       "      <td>0.186092</td>\n",
       "    </tr>\n",
       "    <tr>\n",
       "      <th>min</th>\n",
       "      <td>0.000000</td>\n",
       "      <td>0.000000</td>\n",
       "      <td>0.000000</td>\n",
       "      <td>0.000000</td>\n",
       "      <td>0.000000</td>\n",
       "      <td>0.000000</td>\n",
       "      <td>0.000000</td>\n",
       "      <td>0.000000</td>\n",
       "      <td>0.000000</td>\n",
       "      <td>0.000000</td>\n",
       "      <td>0.000000</td>\n",
       "      <td>0.000000</td>\n",
       "    </tr>\n",
       "    <tr>\n",
       "      <th>25%</th>\n",
       "      <td>0.000000</td>\n",
       "      <td>0.000000</td>\n",
       "      <td>0.000000</td>\n",
       "      <td>0.000000</td>\n",
       "      <td>0.000000</td>\n",
       "      <td>0.000000</td>\n",
       "      <td>0.000000</td>\n",
       "      <td>0.000000</td>\n",
       "      <td>0.000000</td>\n",
       "      <td>0.000000</td>\n",
       "      <td>0.000000</td>\n",
       "      <td>0.000000</td>\n",
       "    </tr>\n",
       "    <tr>\n",
       "      <th>50%</th>\n",
       "      <td>0.000000</td>\n",
       "      <td>0.000000</td>\n",
       "      <td>0.000000</td>\n",
       "      <td>0.000000</td>\n",
       "      <td>0.000000</td>\n",
       "      <td>0.000000</td>\n",
       "      <td>0.000000</td>\n",
       "      <td>0.000000</td>\n",
       "      <td>0.000000</td>\n",
       "      <td>0.000000</td>\n",
       "      <td>0.000000</td>\n",
       "      <td>0.000000</td>\n",
       "    </tr>\n",
       "    <tr>\n",
       "      <th>75%</th>\n",
       "      <td>1.000000</td>\n",
       "      <td>1.000000</td>\n",
       "      <td>1.000000</td>\n",
       "      <td>0.000000</td>\n",
       "      <td>0.000000</td>\n",
       "      <td>0.000000</td>\n",
       "      <td>0.000000</td>\n",
       "      <td>0.000000</td>\n",
       "      <td>1.000000</td>\n",
       "      <td>1.000000</td>\n",
       "      <td>0.000000</td>\n",
       "      <td>0.000000</td>\n",
       "    </tr>\n",
       "    <tr>\n",
       "      <th>max</th>\n",
       "      <td>1.000000</td>\n",
       "      <td>1.000000</td>\n",
       "      <td>1.000000</td>\n",
       "      <td>1.000000</td>\n",
       "      <td>1.000000</td>\n",
       "      <td>1.000000</td>\n",
       "      <td>1.000000</td>\n",
       "      <td>1.000000</td>\n",
       "      <td>1.000000</td>\n",
       "      <td>1.000000</td>\n",
       "      <td>1.000000</td>\n",
       "      <td>1.000000</td>\n",
       "    </tr>\n",
       "  </tbody>\n",
       "</table>\n",
       "</div>"
      ],
      "text/plain": [
       "                 HS       Abusive  HS_Individual      HS_Group   HS_Religion  \\\n",
       "count  13169.000000  13169.000000   13169.000000  13169.000000  13169.000000   \n",
       "mean       0.422280      0.382945       0.271471      0.150809      0.060217   \n",
       "std        0.493941      0.486123       0.444735      0.357876      0.237898   \n",
       "min        0.000000      0.000000       0.000000      0.000000      0.000000   \n",
       "25%        0.000000      0.000000       0.000000      0.000000      0.000000   \n",
       "50%        0.000000      0.000000       0.000000      0.000000      0.000000   \n",
       "75%        1.000000      1.000000       1.000000      0.000000      0.000000   \n",
       "max        1.000000      1.000000       1.000000      1.000000      1.000000   \n",
       "\n",
       "            HS_Race   HS_Physical     HS_Gender      HS_Other       HS_Weak  \\\n",
       "count  13169.000000  13169.000000  13169.000000  13169.000000  13169.000000   \n",
       "mean       0.042980      0.024527      0.023236      0.284000      0.256891   \n",
       "std        0.202819      0.154685      0.150659      0.450954      0.436935   \n",
       "min        0.000000      0.000000      0.000000      0.000000      0.000000   \n",
       "25%        0.000000      0.000000      0.000000      0.000000      0.000000   \n",
       "50%        0.000000      0.000000      0.000000      0.000000      0.000000   \n",
       "75%        0.000000      0.000000      0.000000      1.000000      1.000000   \n",
       "max        1.000000      1.000000      1.000000      1.000000      1.000000   \n",
       "\n",
       "        HS_Moderate     HS_Strong  \n",
       "count  13169.000000  13169.000000  \n",
       "mean       0.129471      0.035918  \n",
       "std        0.335733      0.186092  \n",
       "min        0.000000      0.000000  \n",
       "25%        0.000000      0.000000  \n",
       "50%        0.000000      0.000000  \n",
       "75%        0.000000      0.000000  \n",
       "max        1.000000      1.000000  "
      ]
     },
     "execution_count": 8,
     "metadata": {},
     "output_type": "execute_result"
    }
   ],
   "source": [
    "data.describe()"
   ]
  },
  {
   "cell_type": "code",
   "execution_count": 9,
   "id": "459cfe66",
   "metadata": {},
   "outputs": [
    {
     "name": "stdout",
     "output_type": "stream",
     "text": [
      "<class 'pandas.core.frame.DataFrame'>\n",
      "RangeIndex: 13169 entries, 0 to 13168\n",
      "Data columns (total 13 columns):\n",
      " #   Column         Non-Null Count  Dtype \n",
      "---  ------         --------------  ----- \n",
      " 0   Tweet          13169 non-null  object\n",
      " 1   HS             13169 non-null  int64 \n",
      " 2   Abusive        13169 non-null  int64 \n",
      " 3   HS_Individual  13169 non-null  int64 \n",
      " 4   HS_Group       13169 non-null  int64 \n",
      " 5   HS_Religion    13169 non-null  int64 \n",
      " 6   HS_Race        13169 non-null  int64 \n",
      " 7   HS_Physical    13169 non-null  int64 \n",
      " 8   HS_Gender      13169 non-null  int64 \n",
      " 9   HS_Other       13169 non-null  int64 \n",
      " 10  HS_Weak        13169 non-null  int64 \n",
      " 11  HS_Moderate    13169 non-null  int64 \n",
      " 12  HS_Strong      13169 non-null  int64 \n",
      "dtypes: int64(12), object(1)\n",
      "memory usage: 1.3+ MB\n"
     ]
    }
   ],
   "source": [
    "data.info()"
   ]
  },
  {
   "cell_type": "code",
   "execution_count": 10,
   "id": "7f935b5e",
   "metadata": {},
   "outputs": [
    {
     "data": {
      "text/plain": [
       "Index(['Tweet', 'HS', 'Abusive', 'HS_Individual', 'HS_Group', 'HS_Religion',\n",
       "       'HS_Race', 'HS_Physical', 'HS_Gender', 'HS_Other', 'HS_Weak',\n",
       "       'HS_Moderate', 'HS_Strong'],\n",
       "      dtype='object')"
      ]
     },
     "execution_count": 10,
     "metadata": {},
     "output_type": "execute_result"
    }
   ],
   "source": [
    "data.columns"
   ]
  },
  {
   "cell_type": "markdown",
   "id": "60d65e9e",
   "metadata": {},
   "source": [
    "### 7. Data Cleansing"
   ]
  },
  {
   "cell_type": "markdown",
   "id": "b04cbb5d",
   "metadata": {},
   "source": [
    "### Data Duplicated"
   ]
  },
  {
   "cell_type": "code",
   "execution_count": 4,
   "id": "0719eb5e",
   "metadata": {},
   "outputs": [
    {
     "data": {
      "text/plain": [
       "125"
      ]
     },
     "execution_count": 4,
     "metadata": {},
     "output_type": "execute_result"
    }
   ],
   "source": [
    "data.duplicated().sum()"
   ]
  },
  {
   "cell_type": "markdown",
   "id": "71cddfc2",
   "metadata": {},
   "source": [
    "### Drop Data Duplicated"
   ]
  },
  {
   "cell_type": "code",
   "execution_count": 5,
   "id": "f72fa131",
   "metadata": {},
   "outputs": [],
   "source": [
    "data.drop_duplicates(inplace=True)"
   ]
  },
  {
   "cell_type": "code",
   "execution_count": 6,
   "id": "e7356042",
   "metadata": {},
   "outputs": [
    {
     "data": {
      "text/plain": [
       "0"
      ]
     },
     "execution_count": 6,
     "metadata": {},
     "output_type": "execute_result"
    }
   ],
   "source": [
    "data.duplicated().sum()"
   ]
  },
  {
   "cell_type": "markdown",
   "id": "1120c2b3",
   "metadata": {},
   "source": [
    "### Cleaning Data Tweet"
   ]
  },
  {
   "cell_type": "code",
   "execution_count": 7,
   "id": "a7e20e8e",
   "metadata": {},
   "outputs": [
    {
     "name": "stdout",
     "output_type": "stream",
     "text": [
      "done\n"
     ]
    }
   ],
   "source": [
    "def clean_text(text):\n",
    "    text = text.lower()\n",
    "    emoticon = re.sub(r\"[\\\\x]+[a-z0-9]{2}\", ' ', text) # Menghapus karakter yang dimulai dengan '\\x' diikuti oleh dua karakter huruf atau angka\n",
    "    url = re.sub(r\"https?://[^\\s]+|www://[^\\s]+\", ' ', emoticon)  # Menghapus url http / https\n",
    "    char = re.sub(r\"[^\\w\\s+]\", ' ', url)  # Menghapus karakter kecuali huruf, angka, dan spasi\n",
    "    number = re.sub(r\"\\d{1,}\", ' ', char) # Menghapus angka yang memiliki lebih dari 1 digit\n",
    "    retweet = re.sub(r\"rt|user\", ' ', number)  # Menghapus kata-kata 'rt' dan 'user'\n",
    "    non_ascii = re.sub(r\"[^\\x00-\\x7F]+\", ' ', retweet)  # Remove non-ASCII characters\n",
    "    text = text.replace('_', ' ')  # Menghapus underscore\n",
    "    whitespace = re.sub(r'\\s+', ' ', non_ascii).strip()  # Menggabungkan spasi berturut-turut menjadi satu spasi\n",
    "    return whitespace\n",
    "\n",
    "data['Tweet'] = data['Tweet'].apply(clean_text)\n",
    "print('done')"
   ]
  },
  {
   "cell_type": "code",
   "execution_count": 8,
   "id": "f0d7cff1",
   "metadata": {},
   "outputs": [
    {
     "data": {
      "text/plain": [
       "0     disaat semua cowok berusaha melacak perhatian ...\n",
       "1     siapa yang telat ngasih tau elu edan sarap gue...\n",
       "2     kadang aku berfikir kenapa aku tetap percaya p...\n",
       "3     aku itu aku nu tau matamu sipit tapi diliat da...\n",
       "4     kaum cebong kapir udah keliatan dongoknya dari...\n",
       "5                                    ya bani taplak dkk\n",
       "6     deklarasi pilkada aman dan anti hoax warga duk...\n",
       "7     gue baru aja kelar re watch aldnoah zero palin...\n",
       "8     nah admin belanja satu lagi po terbaik nak mak...\n",
       "9                               enak lg klo smbil ngewe\n",
       "10    setidaknya gw punya jari tengah buat lu sebelo...\n",
       "11    banci kaleng malu ga bisa jawab pe anyaan kami...\n",
       "12    kalo belajar ekonomi mestinya jago memprivatis...\n",
       "13    aktor huruhara prabowo s ingin lengserkan peme...\n",
       "14    bu guru enakan jadi jablay atau guru esde sih ...\n",
       "15    lawan bicara gw gak intelek kyk loe yg otak ga...\n",
       "16           belakangan ini kok fikiran ampas banget ya\n",
       "17                      ari sarua beki mah repeh monyet\n",
       "18    jadi cowo itu harus gantle kalo ga gantle itu ...\n",
       "19                                         slga mnr bom\n",
       "20    asw ya tapi gua jarang ngambek tacut wkkwkwkwk...\n",
       "21    kalo kamu noob pasti peluang disakitin nya leb...\n",
       "22    joko widodo dinilai sebagai presiden terlemah ...\n",
       "23    pelajar sma kec bilah hilir deklarasi anti hoa...\n",
       "24    bandara udara internasional ke ajati dibangun ...\n",
       "25    siapapun gubernur dan presidennya rakyatnya ya...\n",
       "26                   ini si kerjaannya delay mulu setan\n",
       "27    menurutku pintu sorga ada yaitu pintu sorga ya...\n",
       "28    pki hanya muncul jika jelang pemilihan kepala ...\n",
       "29    itu mah sdh nenek nenek sy heran sama cebong b...\n",
       "30    islam nusantara produk jil dipasarkan dg genca...\n",
       "31    dari habis sahur sampe jam sibayik udah nete x...\n",
       "32       gak kak emak mah gak demen ama yang sipit wkwk\n",
       "33    kelakuan homok jaman now ngentot aja sambil li...\n",
       "34    ga kak gua bukan orang jawa maaf yak gua orang...\n",
       "35    pegawai guardian training lagi kek mentang gue...\n",
       "36    para bajingan yang telah melukai lady harus me...\n",
       "37    ajakan menolak berita hoax dan sukseskan pilka...\n",
       "38    presiden ri jokowi luarbiasa kerja nya tulus i...\n",
       "39                          edan emang goollnya fabiano\n",
       "40    gapernah mendalami al quran ya bang pantesan m...\n",
       "41    sangat terlihat beda sekali kewibawaannya yg s...\n",
       "42    anjir baru kali ini lihat orang bego mau debat...\n",
       "43    gubernurzamannow gusipulputi ganjaryasin djaro...\n",
       "44    apa iya islam itu ga boleh dilokalisasi lha kr...\n",
       "45    ciptakan situasi kamtibmas menjelang pilkada k...\n",
       "46    positif kok e positif respon masyarakat terhad...\n",
       "47    kata sembahyang mengadopsi tradisi lokal pada ...\n",
       "48    kau pendikan tinggi tapi bodoh gk ada larang b...\n",
       "49         btp the best abaikan kaum kampret otak micin\n",
       "50    si otak tempurung mah ga usah d ladenin smkn d...\n",
       "51    awaasss jgn sampe beritanya sampe ke akhi geru...\n",
       "52                pinokio umur taonan tuh gantipresiden\n",
       "53    cerita silat lae semacam kho ping hoo yang dar...\n",
       "54                          benci sekali dgn umat islam\n",
       "55    provokasi mayat politisasi agama penyebab keka...\n",
       "56                                   dari pada gua nete\n",
       "57                                        lol bani lowo\n",
       "58    takabur bisa lahir dari siapa saja penguasa ra...\n",
       "59     a orang yang suka ke konser konser sedikit boros\n",
       "Name: Tweet, dtype: object"
      ]
     },
     "execution_count": 8,
     "metadata": {},
     "output_type": "execute_result"
    }
   ],
   "source": [
    "data[\"Tweet\"].head(60)"
   ]
  },
  {
   "cell_type": "code",
   "execution_count": 9,
   "id": "c3cd0d5a",
   "metadata": {},
   "outputs": [
    {
     "data": {
      "text/plain": [
       "13109    akhirnya saya paham bahwa hti menggunakan ideo...\n",
       "13110    ketahanan ideologi amp mental menjadi masalah ...\n",
       "13111    nder gua aja kg di liatin semua org kalau di m...\n",
       "13112                                kunyuk emang die wkwk\n",
       "13113    survei penyusunan disagregasi pmtb bps kota su...\n",
       "13114    ngomongnya gini nyatanya minta periode gak ngu...\n",
       "13115    dbdshow kalo menurut saya film yg berkesan yai...\n",
       "13116    rezim kemarin saya dan keluarga pilih demokrat...\n",
       "13117    ngeri banget itu ati ati nek berdoa semoga dep...\n",
       "13118                              caplang pantat panci lu\n",
       "13119    begitulah model orang yang menukar kebenaran d...\n",
       "13120                          hai rl ku kristen boleh nih\n",
       "13121    impian warga indonesia adalah menguasai ha any...\n",
       "13122    huehue si mahfud md udah ngikutin geng si wowo...\n",
       "13123    pilkada serentak sumut jadi contoh demokrasi d...\n",
       "13124                                  hahaha ko fpi islam\n",
       "13125              selamat datang rezim komunis anti islam\n",
       "13126    yg bawak kabur t si hanggo ke singapura si mon...\n",
       "13127    klo di katolik misa pake bahasa indonesia lebi...\n",
       "13128    yg begini mah lsm kampret bukan maju terus bun...\n",
       "13129    duh sableng itu sarkasme buat kalian bani onta...\n",
       "13130               ruhut sitompul prabowo jangan omdo url\n",
       "13131    lihat fakta dong brosing peringkat pa ai korup...\n",
       "13132    si ini paling punya mantan aja kaga pacaran be...\n",
       "13133    terima kasih pak jokowi anda telah bekerja yg ...\n",
       "13134    pd dsrnya jilbab itu ada di islam kristen yahu...\n",
       "13135    bang adian pernah bilang sebelum berniat ganti...\n",
       "13136    kapan bib gk sabr nih mau potong onta buat mer...\n",
       "13137    alquran kitab sampah dr zakar naik silahkan di...\n",
       "13138    pak pencatut profesional selektif gunakan nama...\n",
       "13139                                apa ngoceh onta yaman\n",
       "13140    ajarkan cinta hentikan menabikan muhammad beja...\n",
       "13141    paling belakang apa yg termutakhir hahahah yg ...\n",
       "13142    bubarkan_dpr bubarkan_dpr bubarkan_dpr bubarka...\n",
       "13143                                    wkwkwkw ccd ahhhh\n",
       "13144                               babi lo jaringan cacat\n",
       "13145    goblok bayangin aja kalo janin itu lu yg ngeti...\n",
       "13146      kbnykn minum kencing onta bs a sperma nya x tuh\n",
       "13147    memang nggak kasihan ya paling pasukan nasi bu...\n",
       "13148    biarkan buk biarkan rn sesungguhnya singapur i...\n",
       "13149    foto ke nohon tempat koloni monyet putih nku g...\n",
       "13150    tambahan rsitektur universitas katolik parahya...\n",
       "13151                                  komnasham sontoloyo\n",
       "13152    rizieq shihab fpi jancok asu kontol tempek anj...\n",
       "13153    wilujeng beurang dan siapapun kita latar belak...\n",
       "13154    adik tengok sekeliling macam mana adik nak cam...\n",
       "13155    makannya w suruh baca apbn biar ga bego u liat...\n",
       "13156    presiden joko widodo jokowi masuk daftar the m...\n",
       "13157    pak recep anda salah itu gubernur pakkkk bukan...\n",
       "13158    maaf sianu mah cocoknya sama mustafa kemal alm...\n",
       "13159    ada buku aktivitas angry birds the movie yang ...\n",
       "13160    nostalgia dengan budaya nos tal gia n kerindua...\n",
       "13161    brengsek itu orang terbuat dr apa bikin gue be...\n",
       "13162    kapolda babi biadap dan bodoh gak punya otak kali\n",
       "13163    orang yahudi kristen dan muslim yang belum per...\n",
       "13164    jangan asal ngomong ndasmu congor lu yg sekate...\n",
       "13165                               kasur mana enak kunyuk\n",
       "13166                     hati hati bisu g nagi bosan huft\n",
       "13167    bom yang real mudah terdeteksi bom yang terkub...\n",
       "13168         mana situ ngasih itu cuma foto ya kutil onta\n",
       "Name: Tweet, dtype: object"
      ]
     },
     "execution_count": 9,
     "metadata": {},
     "output_type": "execute_result"
    }
   ],
   "source": [
    "data[\"Tweet\"].tail(60)"
   ]
  },
  {
   "cell_type": "code",
   "execution_count": 10,
   "id": "7dfefe62",
   "metadata": {},
   "outputs": [
    {
     "data": {
      "text/plain": [
       "'semangkin semarak gantipresiden presidenbaru'"
      ]
     },
     "execution_count": 10,
     "metadata": {},
     "output_type": "execute_result"
    }
   ],
   "source": [
    "data.Tweet[6451]"
   ]
  },
  {
   "cell_type": "code",
   "execution_count": null,
   "id": "2f06ccf2",
   "metadata": {},
   "outputs": [],
   "source": []
  },
  {
   "cell_type": "markdown",
   "id": "be125a4e",
   "metadata": {},
   "source": [
    "### 8. Exploratory Data Analyst (EDA)"
   ]
  },
  {
   "cell_type": "code",
   "execution_count": null,
   "id": "ac9c557a",
   "metadata": {},
   "outputs": [],
   "source": []
  },
  {
   "cell_type": "code",
   "execution_count": null,
   "id": "7dd09968",
   "metadata": {},
   "outputs": [],
   "source": []
  },
  {
   "cell_type": "code",
   "execution_count": null,
   "id": "d790c1df",
   "metadata": {},
   "outputs": [],
   "source": []
  },
  {
   "cell_type": "code",
   "execution_count": null,
   "id": "dcd92efc",
   "metadata": {},
   "outputs": [],
   "source": []
  },
  {
   "cell_type": "code",
   "execution_count": null,
   "id": "1f3314de",
   "metadata": {},
   "outputs": [],
   "source": []
  },
  {
   "cell_type": "code",
   "execution_count": null,
   "id": "20a8b4b1",
   "metadata": {},
   "outputs": [],
   "source": []
  },
  {
   "cell_type": "code",
   "execution_count": null,
   "id": "bb9e1bee",
   "metadata": {},
   "outputs": [],
   "source": []
  },
  {
   "cell_type": "code",
   "execution_count": null,
   "id": "17504bd5",
   "metadata": {},
   "outputs": [],
   "source": []
  },
  {
   "cell_type": "code",
   "execution_count": null,
   "id": "b3a9ca67",
   "metadata": {},
   "outputs": [],
   "source": []
  },
  {
   "cell_type": "code",
   "execution_count": null,
   "id": "af18511e",
   "metadata": {},
   "outputs": [],
   "source": []
  },
  {
   "cell_type": "code",
   "execution_count": null,
   "id": "a712d0c8",
   "metadata": {},
   "outputs": [],
   "source": []
  },
  {
   "cell_type": "code",
   "execution_count": null,
   "id": "5fb0a47b",
   "metadata": {},
   "outputs": [],
   "source": []
  },
  {
   "cell_type": "code",
   "execution_count": null,
   "id": "0306da2c",
   "metadata": {},
   "outputs": [],
   "source": []
  },
  {
   "cell_type": "code",
   "execution_count": null,
   "id": "215604ff",
   "metadata": {},
   "outputs": [],
   "source": []
  },
  {
   "cell_type": "code",
   "execution_count": null,
   "id": "a757e76b",
   "metadata": {},
   "outputs": [],
   "source": []
  },
  {
   "cell_type": "code",
   "execution_count": null,
   "id": "0ffb28ec",
   "metadata": {},
   "outputs": [],
   "source": []
  }
 ],
 "metadata": {
  "kernelspec": {
   "display_name": "Python 3 (ipykernel)",
   "language": "python",
   "name": "python3"
  },
  "language_info": {
   "codemirror_mode": {
    "name": "ipython",
    "version": 3
   },
   "file_extension": ".py",
   "mimetype": "text/x-python",
   "name": "python",
   "nbconvert_exporter": "python",
   "pygments_lexer": "ipython3",
   "version": "3.9.18"
  }
 },
 "nbformat": 4,
 "nbformat_minor": 5
}
