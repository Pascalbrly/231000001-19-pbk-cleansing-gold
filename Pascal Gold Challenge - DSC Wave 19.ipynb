{
 "cells": [
  {
   "cell_type": "markdown",
   "id": "c4476742",
   "metadata": {},
   "source": [
    "# Indonesian Abusive and Hate Speech Twitter Text"
   ]
  },
  {
   "cell_type": "markdown",
   "id": "e2bd6e5c",
   "metadata": {},
   "source": [
    "### Table of Content"
   ]
  },
  {
   "cell_type": "markdown",
   "id": "340797e6",
   "metadata": {},
   "source": [
    "1. Background\n",
    "2. Data Features \n",
    "3. Problem Identification\n",
    "4. Import Libraries\n",
    "5. Reading Data\n",
    "6. Statistical Information about the Data\n",
    "7. Data Cleansing\n",
    "8. Exploratory Data Analyst (EDA)"
   ]
  },
  {
   "cell_type": "markdown",
   "id": "4efd152c",
   "metadata": {},
   "source": [
    "### 1. Background"
   ]
  },
  {
   "cell_type": "markdown",
   "id": "09a0a452",
   "metadata": {},
   "source": [
    "### 2. Data Features"
   ]
  },
  {
   "cell_type": "markdown",
   "id": "34e9bbce",
   "metadata": {},
   "source": [
    "- HS : hate speech label\n",
    "- Abusive : abusive language label\n",
    "- HS_Individual : hate speech targeted to an individual\n",
    "- HS_Group : hate speech targeted to a group\n",
    "- HS_Religion : hate speech related to religion/creed\n",
    "- HS_Race : hate speech related to race/ethnicity\n",
    "- HS_Physical : hate speech related to physical/disability\n",
    "- HS_Gender : hate speech related to gender/sexual orientation\n",
    "- HS_Other : hate related to other invective/slander\n",
    "- HS_Weak : weak hate speech\n",
    "- HS_Moderate : moderate hate speech\n",
    "- HS_Strong : strong hate speech"
   ]
  },
  {
   "cell_type": "markdown",
   "id": "e84e161b",
   "metadata": {},
   "source": [
    "### 3. Problem Identification"
   ]
  },
  {
   "cell_type": "markdown",
   "id": "4324b8bc",
   "metadata": {},
   "source": [
    "- Berapa perbandingan antara jumlah tweet yang mengandung kata-kata ujaran kebencian dengan yang tidak mengandung kata-kata ujaran kebencian?\n",
    "- Berapa jumlah perbandingan tweet yang mengandung kata HS dengan Abusive?\n",
    "- Berapa jumlah perbandingan tweet dari masing-masing kategori Hate Speech?\n",
    "- Bagaimana perbandingan jumlah kasus ujaran kebencian yang ditujukan kepada individu (HS_Individual) dengan yang ditargetkan pada suatu grup (HS_Group) dalam rentang waktu tertentu?"
   ]
  },
  {
   "cell_type": "markdown",
   "id": "f358be4b",
   "metadata": {},
   "source": [
    "### Install Libraries"
   ]
  },
  {
   "cell_type": "code",
   "execution_count": null,
   "id": "4b755143",
   "metadata": {},
   "outputs": [],
   "source": [
    "# !pip install pandas\n",
    "# !pip install regex\n",
    "# !pip install seaborn\n",
    "# !pip install matplotlib\n",
    "# !pip install num2words\n",
    "# !pip install sqlite3\n",
    "# !pip install mysql-connector-python"
   ]
  },
  {
   "cell_type": "code",
   "execution_count": null,
   "id": "2f06ccf2",
   "metadata": {},
   "outputs": [],
   "source": [
    "# pip list"
   ]
  },
  {
   "cell_type": "markdown",
   "id": "3b661512",
   "metadata": {},
   "source": [
    "### 4. Import Libraries"
   ]
  },
  {
   "cell_type": "code",
   "execution_count": 1,
   "id": "cf7e62e0",
   "metadata": {},
   "outputs": [
    {
     "name": "stdout",
     "output_type": "stream",
     "text": [
      "success\n"
     ]
    }
   ],
   "source": [
    "import pandas as pd\n",
    "import re\n",
    "import matplotlib.pyplot as plt\n",
    "import seaborn as sns\n",
    "from num2words import num2words\n",
    "\n",
    "print('success')"
   ]
  },
  {
   "cell_type": "markdown",
   "id": "6b636a6b",
   "metadata": {},
   "source": [
    "### 5. Reading Data"
   ]
  },
  {
   "cell_type": "code",
   "execution_count": 2,
   "id": "98a361f8",
   "metadata": {},
   "outputs": [
    {
     "data": {
      "text/plain": [
       "(13169, 13)"
      ]
     },
     "execution_count": 2,
     "metadata": {},
     "output_type": "execute_result"
    }
   ],
   "source": [
    "data = pd.read_csv('data.csv',encoding='latin-1')\n",
    "data.shape"
   ]
  },
  {
   "cell_type": "code",
   "execution_count": 3,
   "id": "9746b0c8",
   "metadata": {},
   "outputs": [
    {
     "data": {
      "text/html": [
       "<div>\n",
       "<style scoped>\n",
       "    .dataframe tbody tr th:only-of-type {\n",
       "        vertical-align: middle;\n",
       "    }\n",
       "\n",
       "    .dataframe tbody tr th {\n",
       "        vertical-align: top;\n",
       "    }\n",
       "\n",
       "    .dataframe thead th {\n",
       "        text-align: right;\n",
       "    }\n",
       "</style>\n",
       "<table border=\"1\" class=\"dataframe\">\n",
       "  <thead>\n",
       "    <tr style=\"text-align: right;\">\n",
       "      <th></th>\n",
       "      <th>Tweet</th>\n",
       "      <th>HS</th>\n",
       "      <th>Abusive</th>\n",
       "      <th>HS_Individual</th>\n",
       "      <th>HS_Group</th>\n",
       "      <th>HS_Religion</th>\n",
       "      <th>HS_Race</th>\n",
       "      <th>HS_Physical</th>\n",
       "      <th>HS_Gender</th>\n",
       "      <th>HS_Other</th>\n",
       "      <th>HS_Weak</th>\n",
       "      <th>HS_Moderate</th>\n",
       "      <th>HS_Strong</th>\n",
       "    </tr>\n",
       "  </thead>\n",
       "  <tbody>\n",
       "    <tr>\n",
       "      <th>0</th>\n",
       "      <td>- disaat semua cowok berusaha melacak perhatia...</td>\n",
       "      <td>1</td>\n",
       "      <td>1</td>\n",
       "      <td>1</td>\n",
       "      <td>0</td>\n",
       "      <td>0</td>\n",
       "      <td>0</td>\n",
       "      <td>0</td>\n",
       "      <td>0</td>\n",
       "      <td>1</td>\n",
       "      <td>1</td>\n",
       "      <td>0</td>\n",
       "      <td>0</td>\n",
       "    </tr>\n",
       "    <tr>\n",
       "      <th>1</th>\n",
       "      <td>RT USER: USER siapa yang telat ngasih tau elu?...</td>\n",
       "      <td>0</td>\n",
       "      <td>1</td>\n",
       "      <td>0</td>\n",
       "      <td>0</td>\n",
       "      <td>0</td>\n",
       "      <td>0</td>\n",
       "      <td>0</td>\n",
       "      <td>0</td>\n",
       "      <td>0</td>\n",
       "      <td>0</td>\n",
       "      <td>0</td>\n",
       "      <td>0</td>\n",
       "    </tr>\n",
       "    <tr>\n",
       "      <th>2</th>\n",
       "      <td>41. Kadang aku berfikir, kenapa aku tetap perc...</td>\n",
       "      <td>0</td>\n",
       "      <td>0</td>\n",
       "      <td>0</td>\n",
       "      <td>0</td>\n",
       "      <td>0</td>\n",
       "      <td>0</td>\n",
       "      <td>0</td>\n",
       "      <td>0</td>\n",
       "      <td>0</td>\n",
       "      <td>0</td>\n",
       "      <td>0</td>\n",
       "      <td>0</td>\n",
       "    </tr>\n",
       "    <tr>\n",
       "      <th>3</th>\n",
       "      <td>USER USER AKU ITU AKU\\n\\nKU TAU MATAMU SIPIT T...</td>\n",
       "      <td>0</td>\n",
       "      <td>0</td>\n",
       "      <td>0</td>\n",
       "      <td>0</td>\n",
       "      <td>0</td>\n",
       "      <td>0</td>\n",
       "      <td>0</td>\n",
       "      <td>0</td>\n",
       "      <td>0</td>\n",
       "      <td>0</td>\n",
       "      <td>0</td>\n",
       "      <td>0</td>\n",
       "    </tr>\n",
       "    <tr>\n",
       "      <th>4</th>\n",
       "      <td>USER USER Kaum cebong kapir udah keliatan dong...</td>\n",
       "      <td>1</td>\n",
       "      <td>1</td>\n",
       "      <td>0</td>\n",
       "      <td>1</td>\n",
       "      <td>1</td>\n",
       "      <td>0</td>\n",
       "      <td>0</td>\n",
       "      <td>0</td>\n",
       "      <td>0</td>\n",
       "      <td>0</td>\n",
       "      <td>1</td>\n",
       "      <td>0</td>\n",
       "    </tr>\n",
       "  </tbody>\n",
       "</table>\n",
       "</div>"
      ],
      "text/plain": [
       "                                               Tweet  HS  Abusive  \\\n",
       "0  - disaat semua cowok berusaha melacak perhatia...   1        1   \n",
       "1  RT USER: USER siapa yang telat ngasih tau elu?...   0        1   \n",
       "2  41. Kadang aku berfikir, kenapa aku tetap perc...   0        0   \n",
       "3  USER USER AKU ITU AKU\\n\\nKU TAU MATAMU SIPIT T...   0        0   \n",
       "4  USER USER Kaum cebong kapir udah keliatan dong...   1        1   \n",
       "\n",
       "   HS_Individual  HS_Group  HS_Religion  HS_Race  HS_Physical  HS_Gender  \\\n",
       "0              1         0            0        0            0          0   \n",
       "1              0         0            0        0            0          0   \n",
       "2              0         0            0        0            0          0   \n",
       "3              0         0            0        0            0          0   \n",
       "4              0         1            1        0            0          0   \n",
       "\n",
       "   HS_Other  HS_Weak  HS_Moderate  HS_Strong  \n",
       "0         1        1            0          0  \n",
       "1         0        0            0          0  \n",
       "2         0        0            0          0  \n",
       "3         0        0            0          0  \n",
       "4         0        0            1          0  "
      ]
     },
     "execution_count": 3,
     "metadata": {},
     "output_type": "execute_result"
    }
   ],
   "source": [
    "data.head()"
   ]
  },
  {
   "cell_type": "code",
   "execution_count": 4,
   "id": "61d62a6a",
   "metadata": {},
   "outputs": [
    {
     "data": {
      "text/plain": [
       "0     - disaat semua cowok berusaha melacak perhatia...\n",
       "1     RT USER: USER siapa yang telat ngasih tau elu?...\n",
       "2     41. Kadang aku berfikir, kenapa aku tetap perc...\n",
       "3     USER USER AKU ITU AKU\\n\\nKU TAU MATAMU SIPIT T...\n",
       "4     USER USER Kaum cebong kapir udah keliatan dong...\n",
       "5     USER Ya bani taplak dkk \\xf0\\x9f\\x98\\x84\\xf0\\x...\n",
       "6     deklarasi pilkada 2018 aman dan anti hoax warg...\n",
       "7     Gue baru aja kelar re-watch Aldnoah Zero!!! pa...\n",
       "8     Nah admin belanja satu lagi port terbaik nak m...\n",
       "9                         USER Enak lg klo smbil ngewe'\n",
       "10    Setidaknya gw punya jari tengah buat lu, sebel...\n",
       "11    USER USER USER USER BANCI KALENG MALU GA BISA ...\n",
       "12    Kalo belajar ekonomi mestinya jago memprivatis...\n",
       "13    Aktor huruhara 98 Prabowo S ingin lengserkan p...\n",
       "14    USER Bu guru enakan jadi jablay atau guru esde...\n",
       "15    USER USER USER USER USER USER Lawan bicara gw ...\n",
       "16          Belakangan ini kok fikiran ampas banget ya'\n",
       "17    Ari sarua beki mah repeh monyet\\xf0\\x9f\\x98\\x8...\n",
       "18    Jadi cowo itu harus Gantle kalo ga Gantle itu ...\n",
       "19                  USER Slga mnr bom \\xf0\\x9f\\x98\\x82'\n",
       "20    Asw ya tapi gua jarang ngambek, tacut wkkwkwkw...\n",
       "21    USER kalo kamu noob pasti peluang disakitin ny...\n",
       "22    USER Joko Widodo dinilai sebagai presiden terl...\n",
       "23    PELAJAR SMA KEC BILAH HILIR DEKLARASI ANTI HOA...\n",
       "24    Bandara Udara Internasional Kertajati dibangun...\n",
       "25    Siapapun gubernur dan presidennya, rakyatnya, ...\n",
       "26           Ini si USER kerjaannya delay mulu! Setan!'\n",
       "27    menurutku pintu sorga ada yaitu pintu sorga ya...\n",
       "28    RT USER USER USER PKI hanya muncul jika jelang...\n",
       "29    USER USER Itu mah sdh nenek-nenek sy heran sam...\n",
       "30    USER USER USER USER USER USER USER USER USER I...\n",
       "31    Dari habis sahur sampe jam 10. Sibayik udah ne...\n",
       "32    USER Gak kak emak mah gak demen ama yang sipit...\n",
       "33    RT USER: Kelakuan homok jaman now, ngentot aja...\n",
       "34    USER Ga kak, gua bukan orang jawa maaf yak :(;...\n",
       "35    Pegawai Guardian training lagi kek Mentang2 gu...\n",
       "36    \\xe2\\x80\\x9dPara Bajingan yang telah melukai L...\n",
       "37    ajakan menolak berita hoax dan sukseskan pilka...\n",
       "38    USER USER Presiden RI Jokowi luarBiasa kerja n...\n",
       "39                       Edan emang goollnya fabiano!!'\n",
       "40    GAPERNAH MENDALAMI AL-QURAN YA BANG??? PANTESA...\n",
       "41    Sangat terlihat beda sekali Kewibawaannya ,; y...\n",
       "42    Anjir baru kali ini lihat orang bego mau debat...\n",
       "43    #GubernurZamanNow #GusIpulPuti2 #GanjarYasin1 ...\n",
       "44    USER USER Apa iya Islam itu ga boleh dilokalis...\n",
       "45    Ciptakan Situasi Kamtibmas Menjelang Pilkada 2...\n",
       "46    USER USER positif kok.\\nse-positif respon masy...\n",
       "47    USER USER USER USER Kata Sembahyang mengadopsi...\n",
       "48    KAU PENDIKAN TINGGI TAPI BODOH....GK ADA LARAN...\n",
       "49    USER USER BTP the best ,,,abaikan kaum kampret...\n",
       "Name: Tweet, dtype: object"
      ]
     },
     "execution_count": 4,
     "metadata": {},
     "output_type": "execute_result"
    }
   ],
   "source": [
    "data['Tweet'].head(50)"
   ]
  },
  {
   "cell_type": "markdown",
   "id": "3250abd7",
   "metadata": {},
   "source": [
    "### a. Reading Dataset Kamus Alay and Abusive"
   ]
  },
  {
   "cell_type": "code",
   "execution_count": null,
   "id": "8f4c2f27",
   "metadata": {},
   "outputs": [],
   "source": [
    "alay_df = pd.read_csv('new_kamusalay.csv', encoding='latin-1', header= None)\n",
    "print('success')"
   ]
  },
  {
   "cell_type": "code",
   "execution_count": null,
   "id": "b45e9a69",
   "metadata": {},
   "outputs": [],
   "source": [
    "alay_df"
   ]
  },
  {
   "cell_type": "code",
   "execution_count": null,
   "id": "810dbb4b",
   "metadata": {},
   "outputs": [],
   "source": [
    "abusive_df = pd.read_csv('abusive.csv', encoding='latin-1')\n",
    "print('success')"
   ]
  },
  {
   "cell_type": "code",
   "execution_count": null,
   "id": "dd2ec484",
   "metadata": {},
   "outputs": [],
   "source": [
    "abusive_df"
   ]
  },
  {
   "cell_type": "markdown",
   "id": "dccbe5f8",
   "metadata": {},
   "source": [
    "### 6. Statistical Information about the Data"
   ]
  },
  {
   "cell_type": "code",
   "execution_count": 5,
   "id": "95e9976c",
   "metadata": {},
   "outputs": [
    {
     "data": {
      "text/html": [
       "<div>\n",
       "<style scoped>\n",
       "    .dataframe tbody tr th:only-of-type {\n",
       "        vertical-align: middle;\n",
       "    }\n",
       "\n",
       "    .dataframe tbody tr th {\n",
       "        vertical-align: top;\n",
       "    }\n",
       "\n",
       "    .dataframe thead th {\n",
       "        text-align: right;\n",
       "    }\n",
       "</style>\n",
       "<table border=\"1\" class=\"dataframe\">\n",
       "  <thead>\n",
       "    <tr style=\"text-align: right;\">\n",
       "      <th></th>\n",
       "      <th>HS</th>\n",
       "      <th>Abusive</th>\n",
       "      <th>HS_Individual</th>\n",
       "      <th>HS_Group</th>\n",
       "      <th>HS_Religion</th>\n",
       "      <th>HS_Race</th>\n",
       "      <th>HS_Physical</th>\n",
       "      <th>HS_Gender</th>\n",
       "      <th>HS_Other</th>\n",
       "      <th>HS_Weak</th>\n",
       "      <th>HS_Moderate</th>\n",
       "      <th>HS_Strong</th>\n",
       "    </tr>\n",
       "  </thead>\n",
       "  <tbody>\n",
       "    <tr>\n",
       "      <th>count</th>\n",
       "      <td>13169.000000</td>\n",
       "      <td>13169.000000</td>\n",
       "      <td>13169.000000</td>\n",
       "      <td>13169.000000</td>\n",
       "      <td>13169.000000</td>\n",
       "      <td>13169.000000</td>\n",
       "      <td>13169.000000</td>\n",
       "      <td>13169.000000</td>\n",
       "      <td>13169.000000</td>\n",
       "      <td>13169.000000</td>\n",
       "      <td>13169.000000</td>\n",
       "      <td>13169.000000</td>\n",
       "    </tr>\n",
       "    <tr>\n",
       "      <th>mean</th>\n",
       "      <td>0.422280</td>\n",
       "      <td>0.382945</td>\n",
       "      <td>0.271471</td>\n",
       "      <td>0.150809</td>\n",
       "      <td>0.060217</td>\n",
       "      <td>0.042980</td>\n",
       "      <td>0.024527</td>\n",
       "      <td>0.023236</td>\n",
       "      <td>0.284000</td>\n",
       "      <td>0.256891</td>\n",
       "      <td>0.129471</td>\n",
       "      <td>0.035918</td>\n",
       "    </tr>\n",
       "    <tr>\n",
       "      <th>std</th>\n",
       "      <td>0.493941</td>\n",
       "      <td>0.486123</td>\n",
       "      <td>0.444735</td>\n",
       "      <td>0.357876</td>\n",
       "      <td>0.237898</td>\n",
       "      <td>0.202819</td>\n",
       "      <td>0.154685</td>\n",
       "      <td>0.150659</td>\n",
       "      <td>0.450954</td>\n",
       "      <td>0.436935</td>\n",
       "      <td>0.335733</td>\n",
       "      <td>0.186092</td>\n",
       "    </tr>\n",
       "    <tr>\n",
       "      <th>min</th>\n",
       "      <td>0.000000</td>\n",
       "      <td>0.000000</td>\n",
       "      <td>0.000000</td>\n",
       "      <td>0.000000</td>\n",
       "      <td>0.000000</td>\n",
       "      <td>0.000000</td>\n",
       "      <td>0.000000</td>\n",
       "      <td>0.000000</td>\n",
       "      <td>0.000000</td>\n",
       "      <td>0.000000</td>\n",
       "      <td>0.000000</td>\n",
       "      <td>0.000000</td>\n",
       "    </tr>\n",
       "    <tr>\n",
       "      <th>25%</th>\n",
       "      <td>0.000000</td>\n",
       "      <td>0.000000</td>\n",
       "      <td>0.000000</td>\n",
       "      <td>0.000000</td>\n",
       "      <td>0.000000</td>\n",
       "      <td>0.000000</td>\n",
       "      <td>0.000000</td>\n",
       "      <td>0.000000</td>\n",
       "      <td>0.000000</td>\n",
       "      <td>0.000000</td>\n",
       "      <td>0.000000</td>\n",
       "      <td>0.000000</td>\n",
       "    </tr>\n",
       "    <tr>\n",
       "      <th>50%</th>\n",
       "      <td>0.000000</td>\n",
       "      <td>0.000000</td>\n",
       "      <td>0.000000</td>\n",
       "      <td>0.000000</td>\n",
       "      <td>0.000000</td>\n",
       "      <td>0.000000</td>\n",
       "      <td>0.000000</td>\n",
       "      <td>0.000000</td>\n",
       "      <td>0.000000</td>\n",
       "      <td>0.000000</td>\n",
       "      <td>0.000000</td>\n",
       "      <td>0.000000</td>\n",
       "    </tr>\n",
       "    <tr>\n",
       "      <th>75%</th>\n",
       "      <td>1.000000</td>\n",
       "      <td>1.000000</td>\n",
       "      <td>1.000000</td>\n",
       "      <td>0.000000</td>\n",
       "      <td>0.000000</td>\n",
       "      <td>0.000000</td>\n",
       "      <td>0.000000</td>\n",
       "      <td>0.000000</td>\n",
       "      <td>1.000000</td>\n",
       "      <td>1.000000</td>\n",
       "      <td>0.000000</td>\n",
       "      <td>0.000000</td>\n",
       "    </tr>\n",
       "    <tr>\n",
       "      <th>max</th>\n",
       "      <td>1.000000</td>\n",
       "      <td>1.000000</td>\n",
       "      <td>1.000000</td>\n",
       "      <td>1.000000</td>\n",
       "      <td>1.000000</td>\n",
       "      <td>1.000000</td>\n",
       "      <td>1.000000</td>\n",
       "      <td>1.000000</td>\n",
       "      <td>1.000000</td>\n",
       "      <td>1.000000</td>\n",
       "      <td>1.000000</td>\n",
       "      <td>1.000000</td>\n",
       "    </tr>\n",
       "  </tbody>\n",
       "</table>\n",
       "</div>"
      ],
      "text/plain": [
       "                 HS       Abusive  HS_Individual      HS_Group   HS_Religion  \\\n",
       "count  13169.000000  13169.000000   13169.000000  13169.000000  13169.000000   \n",
       "mean       0.422280      0.382945       0.271471      0.150809      0.060217   \n",
       "std        0.493941      0.486123       0.444735      0.357876      0.237898   \n",
       "min        0.000000      0.000000       0.000000      0.000000      0.000000   \n",
       "25%        0.000000      0.000000       0.000000      0.000000      0.000000   \n",
       "50%        0.000000      0.000000       0.000000      0.000000      0.000000   \n",
       "75%        1.000000      1.000000       1.000000      0.000000      0.000000   \n",
       "max        1.000000      1.000000       1.000000      1.000000      1.000000   \n",
       "\n",
       "            HS_Race   HS_Physical     HS_Gender      HS_Other       HS_Weak  \\\n",
       "count  13169.000000  13169.000000  13169.000000  13169.000000  13169.000000   \n",
       "mean       0.042980      0.024527      0.023236      0.284000      0.256891   \n",
       "std        0.202819      0.154685      0.150659      0.450954      0.436935   \n",
       "min        0.000000      0.000000      0.000000      0.000000      0.000000   \n",
       "25%        0.000000      0.000000      0.000000      0.000000      0.000000   \n",
       "50%        0.000000      0.000000      0.000000      0.000000      0.000000   \n",
       "75%        0.000000      0.000000      0.000000      1.000000      1.000000   \n",
       "max        1.000000      1.000000      1.000000      1.000000      1.000000   \n",
       "\n",
       "        HS_Moderate     HS_Strong  \n",
       "count  13169.000000  13169.000000  \n",
       "mean       0.129471      0.035918  \n",
       "std        0.335733      0.186092  \n",
       "min        0.000000      0.000000  \n",
       "25%        0.000000      0.000000  \n",
       "50%        0.000000      0.000000  \n",
       "75%        0.000000      0.000000  \n",
       "max        1.000000      1.000000  "
      ]
     },
     "execution_count": 5,
     "metadata": {},
     "output_type": "execute_result"
    }
   ],
   "source": [
    "data.describe()"
   ]
  },
  {
   "cell_type": "code",
   "execution_count": 6,
   "id": "459cfe66",
   "metadata": {},
   "outputs": [
    {
     "name": "stdout",
     "output_type": "stream",
     "text": [
      "<class 'pandas.core.frame.DataFrame'>\n",
      "RangeIndex: 13169 entries, 0 to 13168\n",
      "Data columns (total 13 columns):\n",
      " #   Column         Non-Null Count  Dtype \n",
      "---  ------         --------------  ----- \n",
      " 0   Tweet          13169 non-null  object\n",
      " 1   HS             13169 non-null  int64 \n",
      " 2   Abusive        13169 non-null  int64 \n",
      " 3   HS_Individual  13169 non-null  int64 \n",
      " 4   HS_Group       13169 non-null  int64 \n",
      " 5   HS_Religion    13169 non-null  int64 \n",
      " 6   HS_Race        13169 non-null  int64 \n",
      " 7   HS_Physical    13169 non-null  int64 \n",
      " 8   HS_Gender      13169 non-null  int64 \n",
      " 9   HS_Other       13169 non-null  int64 \n",
      " 10  HS_Weak        13169 non-null  int64 \n",
      " 11  HS_Moderate    13169 non-null  int64 \n",
      " 12  HS_Strong      13169 non-null  int64 \n",
      "dtypes: int64(12), object(1)\n",
      "memory usage: 1.3+ MB\n"
     ]
    }
   ],
   "source": [
    "data.info()"
   ]
  },
  {
   "cell_type": "code",
   "execution_count": 7,
   "id": "7f935b5e",
   "metadata": {},
   "outputs": [
    {
     "data": {
      "text/plain": [
       "Index(['Tweet', 'HS', 'Abusive', 'HS_Individual', 'HS_Group', 'HS_Religion',\n",
       "       'HS_Race', 'HS_Physical', 'HS_Gender', 'HS_Other', 'HS_Weak',\n",
       "       'HS_Moderate', 'HS_Strong'],\n",
       "      dtype='object')"
      ]
     },
     "execution_count": 7,
     "metadata": {},
     "output_type": "execute_result"
    }
   ],
   "source": [
    "data.columns"
   ]
  },
  {
   "cell_type": "markdown",
   "id": "60d65e9e",
   "metadata": {},
   "source": [
    "### 7. Data Cleansing"
   ]
  },
  {
   "cell_type": "markdown",
   "id": "b04cbb5d",
   "metadata": {},
   "source": [
    "### a. Data Duplicated"
   ]
  },
  {
   "cell_type": "code",
   "execution_count": 8,
   "id": "0719eb5e",
   "metadata": {},
   "outputs": [
    {
     "data": {
      "text/plain": [
       "125"
      ]
     },
     "execution_count": 8,
     "metadata": {},
     "output_type": "execute_result"
    }
   ],
   "source": [
    "data.duplicated().sum()"
   ]
  },
  {
   "cell_type": "markdown",
   "id": "71cddfc2",
   "metadata": {},
   "source": [
    "### b. Drop Data Duplicated"
   ]
  },
  {
   "cell_type": "code",
   "execution_count": 9,
   "id": "f72fa131",
   "metadata": {},
   "outputs": [
    {
     "name": "stdout",
     "output_type": "stream",
     "text": [
      "success\n"
     ]
    }
   ],
   "source": [
    "data.drop_duplicates(inplace=True)\n",
    "print('success')"
   ]
  },
  {
   "cell_type": "code",
   "execution_count": 10,
   "id": "e7356042",
   "metadata": {},
   "outputs": [
    {
     "data": {
      "text/plain": [
       "0"
      ]
     },
     "execution_count": 10,
     "metadata": {},
     "output_type": "execute_result"
    }
   ],
   "source": [
    "data.duplicated().sum()"
   ]
  },
  {
   "cell_type": "markdown",
   "id": "1120c2b3",
   "metadata": {},
   "source": [
    "### c. Cleaning Data Tweet"
   ]
  },
  {
   "cell_type": "code",
   "execution_count": 11,
   "id": "a7e20e8e",
   "metadata": {},
   "outputs": [
    {
     "name": "stdout",
     "output_type": "stream",
     "text": [
      "success\n"
     ]
    }
   ],
   "source": [
    "def clean_text(text):\n",
    "    text = text.lower()\n",
    "    text = re.sub(r'\\\\t|\\\\n|\\\\u', ' ', text) #Menghapus karakter khusus seperti tab, baris baru, karakter Unicode, dan backslash.\n",
    "    text = re.sub(r\"https?:[^\\s]+\", ' ', text)  # Menghapus http / https\n",
    "    text = re.sub(r\"[^\\w\\s+]\", '', text)  # Menghapus karakter kecuali huruf, angka, dan spasi\n",
    "    text = re.sub(r'rt|user', ' ', text)  # Menghapus kata-kata 'rt' dan 'user'\n",
    "    text = re.sub(r'[\\\\x]+[a-z0-9]{2}', '', text)  # Menghapus karakter yang dimulai dengan '\\x' diikuti oleh dua karakter huruf atau angka\n",
    "    text = re.sub(r'[^\\x00-\\x7F]+', '', text)  # Remove non-ASCII characters\n",
    "    text = text.replace('_', ' ')  # Menghapus underscore\n",
    "    text = re.sub(r'(\\d+)', r' \\1 ', text)  # Memisahkan angka dari teks\n",
    "    text = re.sub(r'\\s+', ' ', text).strip()  # Menggabungkan spasi berturut-turut menjadi satu spasi\n",
    "    text = re.sub(r'(\\d+)', lambda x: num2words(int(x.group(0)), lang='id'), text)  # Mengonversi angka menjadi kata\n",
    "    return text\n",
    "\n",
    "data['Tweet'] = data['Tweet'].apply(clean_text)\n",
    "print('success')"
   ]
  },
  {
   "cell_type": "markdown",
   "id": "8d7a6f93",
   "metadata": {},
   "source": [
    "### d. After Cleaning Data Tweet"
   ]
  },
  {
   "cell_type": "code",
   "execution_count": 12,
   "id": "f0d7cff1",
   "metadata": {},
   "outputs": [
    {
     "data": {
      "text/plain": [
       "0     disaat semua cowok berusaha melacak perhatian ...\n",
       "1     siapa yang telat ngasih tau eluedan sarap gue ...\n",
       "2     empat puluh satu kadang aku berfikir kenapa ak...\n",
       "3     aku itu aku ku tau matamu sipit tapi diliat da...\n",
       "4     kaum cebong kapir udah keliatan dongoknya dari...\n",
       "5                                    ya bani taplak dkk\n",
       "6     deklarasi pilkada dua ribu delapan belas aman ...\n",
       "7     gue baru aja kelar rewatch aldnoah zero paling...\n",
       "8     nah admin belanja satu lagi po terbaik nak mak...\n",
       "9                               enak lg klo smbil ngewe\n",
       "10    setidaknya gw punya jari tengah buat lu sebelo...\n",
       "11    banci kaleng malu ga bisa jawab pe anyaan kami...\n",
       "12    kalo belajar ekonomi mestinya jago memprivatis...\n",
       "13    aktor huruhara sembilan puluh delapan prabowo ...\n",
       "14    bu guru enakan jadi jablay atau guru esde sih ...\n",
       "15    lawan bicara gw gak intelek kyk loe yg otak ga...\n",
       "16           belakangan ini kok fikiran ampas banget ya\n",
       "17                      ari sarua beki mah repeh monyet\n",
       "18    jadi cowo itu harus gantle kalo ga gantle itu ...\n",
       "19                                         slga mnr bom\n",
       "20    asw ya tapi gua jarang ngambek tacut wkkwkwkwk...\n",
       "21    kalo kamu noob pasti peluang disakitin nya leb...\n",
       "22    joko widodo dinilai sebagai presiden terlemah ...\n",
       "23    pelajar sma kec bilah hilir deklarasi anti hoa...\n",
       "24    bandara udara internasional ke ajati dibangun ...\n",
       "25    siapapun gubernur dan presidennya rakyatnya ya...\n",
       "26                   ini si kerjaannya delay mulu setan\n",
       "27    menurutku pintu sorga ada yaitu pintu sorga ya...\n",
       "28    pki hanya muncul jika jelang pemilihan kepala ...\n",
       "29    itu mah sdh neneknenek sy heran sama cebong bi...\n",
       "30    islam nusantara produk jil dipasarkan dg genca...\n",
       "31    dari habis sahur sampe jam sepuluh sibayik uda...\n",
       "32       gak kak emak mah gak demen ama yang sipit wkwk\n",
       "33    kelakuan homok jaman now ngentot aja sambil li...\n",
       "34    ga kak gua bukan orang jawa maaf yak gua orang...\n",
       "35    pegawai guardian training lagi kek mentang dua...\n",
       "36    para bajingan yang telah melukai lady harus me...\n",
       "37    ajakan menolak berita hoax dan sukseskan pilka...\n",
       "38    presiden ri jokowi luarbiasa kerja nya tulus i...\n",
       "39                          edan emang goollnya fabiano\n",
       "40    gapernah mendalami alquran ya bang pantesan mu...\n",
       "41    sangat terlihat beda sekali kewibawaannya yg s...\n",
       "42    anjir baru kali ini lihat orang bego mau debat...\n",
       "43    gubernurzamannow gusipulputi dua ganjaryasin s...\n",
       "44    apa iya islam itu ga boleh dilokalisasi lha kr...\n",
       "45    ciptakan situasi kamtibmas menjelang pilkada d...\n",
       "46    positif kok sepositif respon masyarakat terhad...\n",
       "47    kata sembahyang mengadopsi tradisi lokal pada ...\n",
       "48    kau pendikan tinggi tapi bodohgk ada larang ba...\n",
       "49         btp the best abaikan kaum kampret otak micin\n",
       "50    si otak tempurung mah ga usah d ladenin smkn d...\n",
       "51    awaasss jgn sampe beritanya sampe ke akhi geru...\n",
       "52    pinokio umur tiga taonan tuh dua ribu sembilan...\n",
       "53    cerita silat lae semacam kho ping hoo yang dar...\n",
       "54                          benci sekali dgn umat islam\n",
       "55    provokasi mayat politisasi agama penyebab keka...\n",
       "56                                   dari pada gua nete\n",
       "57                                        lol bani lowo\n",
       "58    takabur bisa lahir dari siapa saja penguasa ra...\n",
       "59      a orang yang suka ke konserkonser sedikit boros\n",
       "Name: Tweet, dtype: object"
      ]
     },
     "execution_count": 12,
     "metadata": {},
     "output_type": "execute_result"
    }
   ],
   "source": [
    "data[\"Tweet\"].head(60)"
   ]
  },
  {
   "cell_type": "code",
   "execution_count": 13,
   "id": "c3cd0d5a",
   "metadata": {},
   "outputs": [
    {
     "data": {
      "text/plain": [
       "13109    akhirnya saya paham bahwa hti menggunakan ideo...\n",
       "13110    ketahanan ideologi amp mental menjadi masalah ...\n",
       "13111    nder gua aja delapan puluh kg di liatin semua ...\n",
       "13112                                kunyuk emang die wkwk\n",
       "13113    survei penyusunan disagregasi pmtb bps kota su...\n",
       "13114    ngomongnya gini nyatanya minta dua periode gak...\n",
       "13115    dbdshow kalo menurut saya film yg berkesan yai...\n",
       "13116    rezim kemarin saya dan keluarga pilih demokrat...\n",
       "13117    ngeri banget itu ati ati nek berdoa semoga dep...\n",
       "13118                              caplang pantat panci lu\n",
       "13119    begitulah model orang dua yang menukar kebenar...\n",
       "13120                          hai rl ku kristen boleh nih\n",
       "13121    impian warga indonesia adalah menguasai ha any...\n",
       "13122    huehue si mahfud md udah ngikutin geng si wowo...\n",
       "13123    pilkada serentak dua ribu delapan belas sumut ...\n",
       "13124                                  hahaha ko fpi islam\n",
       "13125              selamat datang rezim komunis anti islam\n",
       "13126    yg bawak kabur tiga puluh lima t si hanggo ke ...\n",
       "13127    klo di katolikmisa pake bahasa indonesialebih ...\n",
       "13128    yg begini mah lsm kampret bukan maju terus bun...\n",
       "13129    duh sableng itu sarkasme buat kalian bani onta...\n",
       "13130               ruhut sitompul prabowo jangan omdo url\n",
       "13131    lihat fakta dong brosing peringkat pa ai korup...\n",
       "13132    si ini paling punya mantan aja kaga pacaran be...\n",
       "13133    terima kasih pak jokowi anda telah bekerja yg ...\n",
       "13134    pd dsrnya jilbab itu ada di islam kristen yahu...\n",
       "13135    bang adian pernah bilang sebelum berniat ganti...\n",
       "13136    kapan bib gk sabr nihmau potong onta buat mera...\n",
       "13137    alquran kitab sampah dr zakar naik silahkan di...\n",
       "13138    pak pencatut profesional selektif gunakan nama...\n",
       "13139                                apa ngoceh onta yaman\n",
       "13140    ajarkan cinta hentikan menabikan muhammad beja...\n",
       "13141    paling belakang apa yg termutakhir hahahah yg ...\n",
       "13142    bubarkan dpr bubarkan dpr bubarkan dpr bubarka...\n",
       "13143                                    wkwkwkw ccd ahhhh\n",
       "13144                               babi lo jaringan cacat\n",
       "13145    goblok bayangin aja kalo janin itu lu yg ngeti...\n",
       "13146      kbnykn minum kencing onta bs a sperma nya x tuh\n",
       "13147    memang nggak kasihan ya paling pasukan nasi bu...\n",
       "13148    biarkan buk biarkan krn sesungguhnya singapur ...\n",
       "13149    foto ke tiga pohon tempat koloni monyet putih ...\n",
       "13150    tambahan arsitektur universitas katolik parahy...\n",
       "13151                                  komnasham sontoloyo\n",
       "13152    rizieq shihab fpi jancok asu kontol tempek anj...\n",
       "13153    wilujeng beurang dan siapapun kita latar belak...\n",
       "13154    adik tengok sekeliling macam mana adik nak cam...\n",
       "13155    makannya w suruh baca apbn biar ga begou liat ...\n",
       "13156    presiden joko widodo jokowi masuk daftar the m...\n",
       "13157    pak recepanda salah itu gubernur pakkkkbukan p...\n",
       "13158    maaf sianu mah cocoknya sama mustafa kemal alm...\n",
       "13159    ada dua buku aktivitas angry birds the movie y...\n",
       "13160    nostalgia dengan budaya nostalgia n kerinduan ...\n",
       "13161    brengsek itu orang terbuat dr apa bikin gue be...\n",
       "13162    kapolda babi biadap dan bodoh gak punya otak kali\n",
       "13163    orang yahudi kristen dan muslim yang belum per...\n",
       "13164    jangan asal ngomong ndasmu congor lu yg sekate...\n",
       "13165                               kasur mana enak kunyuk\n",
       "13166                     hati hati bisu g lagi bosan huft\n",
       "13167    bom yang real mudah terdeteksi bom yang terkub...\n",
       "13168         mana situ ngasih itu cuma foto ya kutil onta\n",
       "Name: Tweet, dtype: object"
      ]
     },
     "execution_count": 13,
     "metadata": {},
     "output_type": "execute_result"
    }
   ],
   "source": [
    "data[\"Tweet\"].tail(60)"
   ]
  },
  {
   "cell_type": "code",
   "execution_count": 14,
   "id": "7dfefe62",
   "metadata": {},
   "outputs": [
    {
     "data": {
      "text/plain": [
       "'semangkin semarak dua ribu sembilan belas gantipresiden dua ribu sembilan belas presidenbaru'"
      ]
     },
     "execution_count": 14,
     "metadata": {},
     "output_type": "execute_result"
    }
   ],
   "source": [
    "data.Tweet[6451]"
   ]
  },
  {
   "cell_type": "code",
   "execution_count": null,
   "id": "a02d9598",
   "metadata": {},
   "outputs": [],
   "source": [
    "data[\"Tweet\"].head(50)"
   ]
  },
  {
   "cell_type": "markdown",
   "id": "be125a4e",
   "metadata": {},
   "source": [
    "### 8. Exploratory Data Analyst (EDA)"
   ]
  },
  {
   "cell_type": "markdown",
   "id": "6a6a0b84",
   "metadata": {},
   "source": [
    "### 9. Database SQLite"
   ]
  },
  {
   "cell_type": "code",
   "execution_count": null,
   "id": "1f09c7fb",
   "metadata": {},
   "outputs": [],
   "source": [
    "# import mysql.connector\n",
    "# print('done')"
   ]
  },
  {
   "cell_type": "code",
   "execution_count": null,
   "id": "0306da2c",
   "metadata": {},
   "outputs": [],
   "source": [
    "import sqlite3\n",
    "print('success')"
   ]
  },
  {
   "cell_type": "code",
   "execution_count": null,
   "id": "215604ff",
   "metadata": {},
   "outputs": [],
   "source": [
    "con = sqlite3.connect(\"gold.db\")\n",
    "print('success')"
   ]
  },
  {
   "cell_type": "code",
   "execution_count": null,
   "id": "a757e76b",
   "metadata": {},
   "outputs": [],
   "source": [
    "con.execute('''create table new_kamusalay(\n",
    "id integer primary key autoincrement,\n",
    "kata_alay varchar(255),\n",
    "kata_baku varchar(255))''')\n",
    "\n",
    "print('success')\n",
    "con.close()"
   ]
  },
  {
   "cell_type": "code",
   "execution_count": 15,
   "id": "f3e522eb",
   "metadata": {},
   "outputs": [
    {
     "name": "stdout",
     "output_type": "stream",
     "text": [
      " * Serving Flask app '__main__'\n",
      " * Debug mode: off\n"
     ]
    },
    {
     "name": "stderr",
     "output_type": "stream",
     "text": [
      "WARNING: This is a development server. Do not use it in a production deployment. Use a production WSGI server instead.\n",
      " * Running on http://127.0.0.1:5000\n",
      "Press CTRL+C to quit\n",
      "127.0.0.1 - - [14/Mar/2024 11:15:46] \"GET / HTTP/1.1\" 200 -\n",
      "127.0.0.1 - - [14/Mar/2024 11:15:59] \"GET /text-processing-file HTTP/1.1\" 405 -\n",
      "127.0.0.1 - - [14/Mar/2024 11:16:04] \"GET /docs/ HTTP/1.1\" 200 -\n",
      "127.0.0.1 - - [14/Mar/2024 11:16:05] \"GET /flasgger_static/swagger-ui-bundle.js HTTP/1.1\" 304 -\n",
      "127.0.0.1 - - [14/Mar/2024 11:16:05] \"GET /flasgger_static/lib/jquery.min.js HTTP/1.1\" 304 -\n",
      "127.0.0.1 - - [14/Mar/2024 11:16:05] \"GET /flasgger_static/swagger-ui-standalone-preset.js HTTP/1.1\" 304 -\n",
      "127.0.0.1 - - [14/Mar/2024 11:16:05] \"GET /flasgger_static/swagger-ui.css HTTP/1.1\" 304 -\n",
      "127.0.0.1 - - [14/Mar/2024 11:16:06] \"GET /docs.json HTTP/1.1\" 200 -\n",
      "127.0.0.1 - - [14/Mar/2024 11:16:17] \"POST /text-processing-file HTTP/1.1\" 200 -\n"
     ]
    }
   ],
   "source": [
    "from flask import Flask, jsonify\n",
    "from flask import request\n",
    "from flasgger import Swagger, LazyString, LazyJSONEncoder\n",
    "from flasgger import swag_from\n",
    "\n",
    "app = Flask(__name__)\n",
    "\n",
    "app.json_encoder = LazyJSONEncoder\n",
    "swagger_template = dict(\n",
    "info = {\n",
    "    'title': 'API Documentation for Data Processing and Modeling',\n",
    "    'version': '1.0.0',\n",
    "    'description': 'Dokumentasi API untuk Data Processing dan Modeling',\n",
    "    },\n",
    "#     host = \"127.0.0.1:5000\"\n",
    "#     host = LazyString(lambda: request.host)\n",
    ")\n",
    "\n",
    "swagger_config = {\n",
    "    \"headers\": [],\n",
    "    \"specs\": [\n",
    "        {\n",
    "            \"endpoint\": 'docs',\n",
    "            \"route\": '/docs.json',\n",
    "        }\n",
    "    ],\n",
    "    \"static_url_path\": \"/flasgger_static\",\n",
    "    \"swagger_ui\": True,\n",
    "    \"specs_route\": \"/docs/\"\n",
    "}\n",
    "\n",
    "swagger = Swagger(app, template=swagger_template,             \n",
    "                  config=swagger_config)\n",
    "\n",
    "@swag_from(\"C://Users/Admin/Documents/GitHub/231000001-19-pbk-cleansing-gold/docs/hello_world.yml\", methods=['GET'])\n",
    "@app.route('/', methods=['GET'])\n",
    "def hello_world():\n",
    "    json_response = {\n",
    "        'status_code': 200,\n",
    "        'description': \"Menyapa Hello World\",\n",
    "        'data': \"Hello World\",\n",
    "    }\n",
    "\n",
    "    response_data = jsonify(json_response)\n",
    "    return response_data\n",
    "\n",
    "@swag_from(\"C://Users/Admin/Documents/GitHub/231000001-19-pbk-cleansing-gold/docs/text.yml\", methods=['GET'])\n",
    "@app.route('/text', methods=['GET'])\n",
    "def text():\n",
    "    json_response = {\n",
    "        'status_code': 200,\n",
    "        'description': \"Original Teks\",\n",
    "        'data': \"Halo, apa kabar semua?\",\n",
    "    }\n",
    "\n",
    "    response_data = jsonify(json_response)\n",
    "    return response_data\n",
    "\n",
    "@swag_from(\"C://Users/Admin/Documents/GitHub/231000001-19-pbk-cleansing-gold/docs/text_clean.yml\", methods=['GET'])\n",
    "@app.route('/text-clean', methods=['GET'])\n",
    "def text_clean():\n",
    "    json_response = {\n",
    "        'status_code': 200,\n",
    "        'description': \"Teks yang sudah dibersihkan\",\n",
    "        'data': re.sub(r'[^a-zA-Z0-9]', ' ', \"Halo, apa kabar semua?\"),\n",
    "    }\n",
    "\n",
    "    response_data = jsonify(json_response)\n",
    "    return response_data\n",
    "\n",
    "@swag_from(\"C://Users/Admin/Documents/GitHub/231000001-19-pbk-cleansing-gold/docs/text_processing.yml\", methods=['POST'])\n",
    "@app.route('/text-processing', methods=['POST'])\n",
    "def text_processing():\n",
    "\n",
    "    text = request.form.get('text')\n",
    "    cleaned_text = clean_text(text)\n",
    "\n",
    "    json_response = {\n",
    "        'status_code': 200,\n",
    "        'description': \"Teks yang sudah diproses\",\n",
    "        'data': cleaned_text,\n",
    "    }\n",
    "\n",
    "    response_data = jsonify(json_response)\n",
    "    return response_data\n",
    "\n",
    "@swag_from(\"C://Users/Admin/Documents/GitHub/231000001-19-pbk-cleansing-gold/docs/text_processing_file.yml\", methods=['POST'])\n",
    "@app.route('/text-processing-file', methods=['POST'])\n",
    "def text_processing_file():\n",
    "\n",
    "    # Upladed file\n",
    "    file = request.files.getlist('file')[0]\n",
    "\n",
    "    # Import file csv ke Pandas\n",
    "    data = pd.read_csv('data.csv',encoding='latin-1')\n",
    "\n",
    "    # Ambil teks yang akan diproses dalam format list\n",
    "    texts = data.Tweet.to_list()\n",
    "\n",
    "    # Lakukan cleansing pada teks\n",
    "    cleaned_text = []\n",
    "    for text in texts:\n",
    "        text = text.lower()\n",
    "        text = re.sub(r'\\\\t|\\\\n|\\\\u', ' ', text) # Menghapus karakter khusus seperti tab, baris baru, karakter Unicode, dan backslash.\n",
    "        text = re.sub(r\"https?:[^\\s]+\", ' ', text)  # Menghapus http / https\n",
    "        text = re.sub(r\"[^\\w\\s+]\", '', text)  # Menghapus karakter kecuali huruf, angka, dan spasi\n",
    "        text = re.sub(r'rt|user', ' ', text)  # Menghapus kata-kata 'rt' dan 'user'\n",
    "        text = re.sub(r'[\\\\x]+[a-z0-9]{2}', '', text)  # Menghapus karakter yang dimulai dengan '\\x' diikuti oleh dua karakter huruf atau angka\n",
    "        text = re.sub(r'[^\\x00-\\x7F]+', '', text)  # Remove non-ASCII characters\n",
    "        text = text.replace('_', ' ')  # Menghapus underscore\n",
    "        text = re.sub(r'(\\d+)', r' \\1 ', text)  # Memisahkan angka dari teks\n",
    "        text = re.sub(r'\\s+', ' ', text).strip()  # Menggabungkan spasi berturut-turut menjadi satu spasi\n",
    "        text = re.sub(r'(\\d+)', lambda x: num2words(int(x.group(0)), lang='id'), text)  # Mengonversi angka menjadi kata\n",
    "        cleaned_text.append(text)\n",
    "\n",
    "    json_response = {\n",
    "        'status_code': 200,\n",
    "        'description': \"Teks yang sudah diproses\",\n",
    "        'data': cleaned_text,\n",
    "    }\n",
    "\n",
    "    response_data = jsonify(json_response)\n",
    "    return response_data\n",
    "\n",
    "if __name__ == '__main__':\n",
    "   app.run()"
   ]
  },
  {
   "cell_type": "code",
   "execution_count": null,
   "id": "33e0a001",
   "metadata": {},
   "outputs": [],
   "source": []
  }
 ],
 "metadata": {
  "kernelspec": {
   "display_name": "Python 3 (ipykernel)",
   "language": "python",
   "name": "python3"
  },
  "language_info": {
   "codemirror_mode": {
    "name": "ipython",
    "version": 3
   },
   "file_extension": ".py",
   "mimetype": "text/x-python",
   "name": "python",
   "nbconvert_exporter": "python",
   "pygments_lexer": "ipython3",
   "version": "3.9.18"
  }
 },
 "nbformat": 4,
 "nbformat_minor": 5
}
