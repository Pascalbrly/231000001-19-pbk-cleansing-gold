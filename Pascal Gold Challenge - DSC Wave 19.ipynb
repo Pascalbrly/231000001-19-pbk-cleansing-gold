{
 "cells": [
  {
   "cell_type": "markdown",
   "id": "c4476742",
   "metadata": {},
   "source": [
    "# Indonesian Abusive and Hate Speech Twitter Text"
   ]
  },
  {
   "cell_type": "markdown",
   "id": "e2bd6e5c",
   "metadata": {},
   "source": [
    "### Table of Content"
   ]
  },
  {
   "cell_type": "markdown",
   "id": "340797e6",
   "metadata": {},
   "source": [
    "1. Background\n",
    "2. Data Features \n",
    "3. Problem Identification\n",
    "4. Import Libraries\n",
    "5. Reading Data\n",
    "6. Statistical Information about the Data\n",
    "7. Data Cleansing\n",
    "8. Exploratory Data Analyst (EDA)"
   ]
  },
  {
   "cell_type": "markdown",
   "id": "4efd152c",
   "metadata": {},
   "source": [
    "### 1. Background"
   ]
  },
  {
   "cell_type": "markdown",
   "id": "6ebf3639",
   "metadata": {},
   "source": []
  },
  {
   "cell_type": "markdown",
   "id": "09a0a452",
   "metadata": {},
   "source": [
    "### 2. Data Features"
   ]
  },
  {
   "cell_type": "markdown",
   "id": "34e9bbce",
   "metadata": {},
   "source": [
    "- HS : hate speech label\n",
    "- Abusive : abusive language label\n",
    "- HS_Individual : hate speech targeted to an individual\n",
    "- HS_Group : hate speech targeted to a group\n",
    "- HS_Religion : hate speech related to religion/creed\n",
    "- HS_Race : hate speech related to race/ethnicity\n",
    "- HS_Physical : hate speech related to physical/disability\n",
    "- HS_Gender : hate speech related to gender/sexual orientation\n",
    "- HS_Other : hate related to other invective/slander\n",
    "- HS_Weak : weak hate speech\n",
    "- HS_Moderate : moderate hate speech\n",
    "- HS_Strong : strong hate speech"
   ]
  },
  {
   "cell_type": "markdown",
   "id": "e84e161b",
   "metadata": {},
   "source": [
    "### 3. Problem Identification"
   ]
  },
  {
   "cell_type": "markdown",
   "id": "4324b8bc",
   "metadata": {},
   "source": [
    "- Berapa perbandingan antara jumlah tweet yang mengandung kata-kata ujaran kebencian dengan yang tidak mengandung kata-kata ujaran kebencian?\n",
    "- Berapa jumlah perbandingan tweet yang mengandung kata HS dengan Abusive?\n",
    "- Berapa jumlah perbandingan tweet dari masing-masing kategori Hate Speech?\n",
    "- Bagaimana perbandingan jumlah kasus ujaran kebencian yang ditujukan kepada individu (HS_Individual) dengan yang ditargetkan pada suatu grup (HS_Group) dalam rentang waktu tertentu?"
   ]
  },
  {
   "cell_type": "markdown",
   "id": "f358be4b",
   "metadata": {},
   "source": [
    "### Install Libraries"
   ]
  },
  {
   "cell_type": "code",
   "execution_count": null,
   "id": "4b755143",
   "metadata": {},
   "outputs": [],
   "source": [
    "# !pip install pandas\n",
    "# !pip install regex\n",
    "# !pip install seaborn\n",
    "# !pip install matplotlib\n",
    "# !pip install num2words\n",
    "# !pip install sqlite3\n",
    "# !pip install mysql-connector-python"
   ]
  },
  {
   "cell_type": "code",
   "execution_count": null,
   "id": "2f06ccf2",
   "metadata": {},
   "outputs": [],
   "source": [
    "# pip list"
   ]
  },
  {
   "cell_type": "markdown",
   "id": "3b661512",
   "metadata": {},
   "source": [
    "### 4. Import Libraries"
   ]
  },
  {
   "cell_type": "code",
   "execution_count": 1,
   "id": "cf7e62e0",
   "metadata": {},
   "outputs": [
    {
     "name": "stdout",
     "output_type": "stream",
     "text": [
      "success\n"
     ]
    }
   ],
   "source": [
    "import pandas as pd\n",
    "import re\n",
    "import matplotlib.pyplot as plt\n",
    "import seaborn as sns\n",
    "from num2words import num2words\n",
    "\n",
    "print('success')"
   ]
  },
  {
   "cell_type": "markdown",
   "id": "6b636a6b",
   "metadata": {},
   "source": [
    "### 5. Reading Data"
   ]
  },
  {
   "cell_type": "code",
   "execution_count": 2,
   "id": "98a361f8",
   "metadata": {},
   "outputs": [
    {
     "data": {
      "text/plain": [
       "(13169, 13)"
      ]
     },
     "execution_count": 2,
     "metadata": {},
     "output_type": "execute_result"
    }
   ],
   "source": [
    "data = pd.read_csv('data.csv',encoding='latin-1')\n",
    "data.shape"
   ]
  },
  {
   "cell_type": "code",
   "execution_count": 3,
   "id": "9746b0c8",
   "metadata": {},
   "outputs": [
    {
     "data": {
      "text/html": [
       "<div>\n",
       "<style scoped>\n",
       "    .dataframe tbody tr th:only-of-type {\n",
       "        vertical-align: middle;\n",
       "    }\n",
       "\n",
       "    .dataframe tbody tr th {\n",
       "        vertical-align: top;\n",
       "    }\n",
       "\n",
       "    .dataframe thead th {\n",
       "        text-align: right;\n",
       "    }\n",
       "</style>\n",
       "<table border=\"1\" class=\"dataframe\">\n",
       "  <thead>\n",
       "    <tr style=\"text-align: right;\">\n",
       "      <th></th>\n",
       "      <th>Tweet</th>\n",
       "      <th>HS</th>\n",
       "      <th>Abusive</th>\n",
       "      <th>HS_Individual</th>\n",
       "      <th>HS_Group</th>\n",
       "      <th>HS_Religion</th>\n",
       "      <th>HS_Race</th>\n",
       "      <th>HS_Physical</th>\n",
       "      <th>HS_Gender</th>\n",
       "      <th>HS_Other</th>\n",
       "      <th>HS_Weak</th>\n",
       "      <th>HS_Moderate</th>\n",
       "      <th>HS_Strong</th>\n",
       "    </tr>\n",
       "  </thead>\n",
       "  <tbody>\n",
       "    <tr>\n",
       "      <th>0</th>\n",
       "      <td>- disaat semua cowok berusaha melacak perhatia...</td>\n",
       "      <td>1</td>\n",
       "      <td>1</td>\n",
       "      <td>1</td>\n",
       "      <td>0</td>\n",
       "      <td>0</td>\n",
       "      <td>0</td>\n",
       "      <td>0</td>\n",
       "      <td>0</td>\n",
       "      <td>1</td>\n",
       "      <td>1</td>\n",
       "      <td>0</td>\n",
       "      <td>0</td>\n",
       "    </tr>\n",
       "    <tr>\n",
       "      <th>1</th>\n",
       "      <td>RT USER: USER siapa yang telat ngasih tau elu?...</td>\n",
       "      <td>0</td>\n",
       "      <td>1</td>\n",
       "      <td>0</td>\n",
       "      <td>0</td>\n",
       "      <td>0</td>\n",
       "      <td>0</td>\n",
       "      <td>0</td>\n",
       "      <td>0</td>\n",
       "      <td>0</td>\n",
       "      <td>0</td>\n",
       "      <td>0</td>\n",
       "      <td>0</td>\n",
       "    </tr>\n",
       "    <tr>\n",
       "      <th>2</th>\n",
       "      <td>41. Kadang aku berfikir, kenapa aku tetap perc...</td>\n",
       "      <td>0</td>\n",
       "      <td>0</td>\n",
       "      <td>0</td>\n",
       "      <td>0</td>\n",
       "      <td>0</td>\n",
       "      <td>0</td>\n",
       "      <td>0</td>\n",
       "      <td>0</td>\n",
       "      <td>0</td>\n",
       "      <td>0</td>\n",
       "      <td>0</td>\n",
       "      <td>0</td>\n",
       "    </tr>\n",
       "    <tr>\n",
       "      <th>3</th>\n",
       "      <td>USER USER AKU ITU AKU\\n\\nKU TAU MATAMU SIPIT T...</td>\n",
       "      <td>0</td>\n",
       "      <td>0</td>\n",
       "      <td>0</td>\n",
       "      <td>0</td>\n",
       "      <td>0</td>\n",
       "      <td>0</td>\n",
       "      <td>0</td>\n",
       "      <td>0</td>\n",
       "      <td>0</td>\n",
       "      <td>0</td>\n",
       "      <td>0</td>\n",
       "      <td>0</td>\n",
       "    </tr>\n",
       "    <tr>\n",
       "      <th>4</th>\n",
       "      <td>USER USER Kaum cebong kapir udah keliatan dong...</td>\n",
       "      <td>1</td>\n",
       "      <td>1</td>\n",
       "      <td>0</td>\n",
       "      <td>1</td>\n",
       "      <td>1</td>\n",
       "      <td>0</td>\n",
       "      <td>0</td>\n",
       "      <td>0</td>\n",
       "      <td>0</td>\n",
       "      <td>0</td>\n",
       "      <td>1</td>\n",
       "      <td>0</td>\n",
       "    </tr>\n",
       "  </tbody>\n",
       "</table>\n",
       "</div>"
      ],
      "text/plain": [
       "                                               Tweet  HS  Abusive  \\\n",
       "0  - disaat semua cowok berusaha melacak perhatia...   1        1   \n",
       "1  RT USER: USER siapa yang telat ngasih tau elu?...   0        1   \n",
       "2  41. Kadang aku berfikir, kenapa aku tetap perc...   0        0   \n",
       "3  USER USER AKU ITU AKU\\n\\nKU TAU MATAMU SIPIT T...   0        0   \n",
       "4  USER USER Kaum cebong kapir udah keliatan dong...   1        1   \n",
       "\n",
       "   HS_Individual  HS_Group  HS_Religion  HS_Race  HS_Physical  HS_Gender  \\\n",
       "0              1         0            0        0            0          0   \n",
       "1              0         0            0        0            0          0   \n",
       "2              0         0            0        0            0          0   \n",
       "3              0         0            0        0            0          0   \n",
       "4              0         1            1        0            0          0   \n",
       "\n",
       "   HS_Other  HS_Weak  HS_Moderate  HS_Strong  \n",
       "0         1        1            0          0  \n",
       "1         0        0            0          0  \n",
       "2         0        0            0          0  \n",
       "3         0        0            0          0  \n",
       "4         0        0            1          0  "
      ]
     },
     "execution_count": 3,
     "metadata": {},
     "output_type": "execute_result"
    }
   ],
   "source": [
    "data.head()"
   ]
  },
  {
   "cell_type": "code",
   "execution_count": 4,
   "id": "61d62a6a",
   "metadata": {},
   "outputs": [
    {
     "data": {
      "text/plain": [
       "0     - disaat semua cowok berusaha melacak perhatia...\n",
       "1     RT USER: USER siapa yang telat ngasih tau elu?...\n",
       "2     41. Kadang aku berfikir, kenapa aku tetap perc...\n",
       "3     USER USER AKU ITU AKU\\n\\nKU TAU MATAMU SIPIT T...\n",
       "4     USER USER Kaum cebong kapir udah keliatan dong...\n",
       "5     USER Ya bani taplak dkk \\xf0\\x9f\\x98\\x84\\xf0\\x...\n",
       "6     deklarasi pilkada 2018 aman dan anti hoax warg...\n",
       "7     Gue baru aja kelar re-watch Aldnoah Zero!!! pa...\n",
       "8     Nah admin belanja satu lagi port terbaik nak m...\n",
       "9                         USER Enak lg klo smbil ngewe'\n",
       "10    Setidaknya gw punya jari tengah buat lu, sebel...\n",
       "11    USER USER USER USER BANCI KALENG MALU GA BISA ...\n",
       "12    Kalo belajar ekonomi mestinya jago memprivatis...\n",
       "13    Aktor huruhara 98 Prabowo S ingin lengserkan p...\n",
       "14    USER Bu guru enakan jadi jablay atau guru esde...\n",
       "15    USER USER USER USER USER USER Lawan bicara gw ...\n",
       "16          Belakangan ini kok fikiran ampas banget ya'\n",
       "17    Ari sarua beki mah repeh monyet\\xf0\\x9f\\x98\\x8...\n",
       "18    Jadi cowo itu harus Gantle kalo ga Gantle itu ...\n",
       "19                  USER Slga mnr bom \\xf0\\x9f\\x98\\x82'\n",
       "20    Asw ya tapi gua jarang ngambek, tacut wkkwkwkw...\n",
       "21    USER kalo kamu noob pasti peluang disakitin ny...\n",
       "22    USER Joko Widodo dinilai sebagai presiden terl...\n",
       "23    PELAJAR SMA KEC BILAH HILIR DEKLARASI ANTI HOA...\n",
       "24    Bandara Udara Internasional Kertajati dibangun...\n",
       "25    Siapapun gubernur dan presidennya, rakyatnya, ...\n",
       "26           Ini si USER kerjaannya delay mulu! Setan!'\n",
       "27    menurutku pintu sorga ada yaitu pintu sorga ya...\n",
       "28    RT USER USER USER PKI hanya muncul jika jelang...\n",
       "29    USER USER Itu mah sdh nenek-nenek sy heran sam...\n",
       "30    USER USER USER USER USER USER USER USER USER I...\n",
       "31    Dari habis sahur sampe jam 10. Sibayik udah ne...\n",
       "32    USER Gak kak emak mah gak demen ama yang sipit...\n",
       "33    RT USER: Kelakuan homok jaman now, ngentot aja...\n",
       "34    USER Ga kak, gua bukan orang jawa maaf yak :(;...\n",
       "35    Pegawai Guardian training lagi kek Mentang2 gu...\n",
       "36    \\xe2\\x80\\x9dPara Bajingan yang telah melukai L...\n",
       "37    ajakan menolak berita hoax dan sukseskan pilka...\n",
       "38    USER USER Presiden RI Jokowi luarBiasa kerja n...\n",
       "39                       Edan emang goollnya fabiano!!'\n",
       "40    GAPERNAH MENDALAMI AL-QURAN YA BANG??? PANTESA...\n",
       "41    Sangat terlihat beda sekali Kewibawaannya ,; y...\n",
       "42    Anjir baru kali ini lihat orang bego mau debat...\n",
       "43    #GubernurZamanNow #GusIpulPuti2 #GanjarYasin1 ...\n",
       "44    USER USER Apa iya Islam itu ga boleh dilokalis...\n",
       "45    Ciptakan Situasi Kamtibmas Menjelang Pilkada 2...\n",
       "46    USER USER positif kok.\\nse-positif respon masy...\n",
       "47    USER USER USER USER Kata Sembahyang mengadopsi...\n",
       "48    KAU PENDIKAN TINGGI TAPI BODOH....GK ADA LARAN...\n",
       "49    USER USER BTP the best ,,,abaikan kaum kampret...\n",
       "Name: Tweet, dtype: object"
      ]
     },
     "execution_count": 4,
     "metadata": {},
     "output_type": "execute_result"
    }
   ],
   "source": [
    "data['Tweet'].head(50)"
   ]
  },
  {
   "cell_type": "markdown",
   "id": "3250abd7",
   "metadata": {},
   "source": [
    "### a. Reading Dataset Kamus Alay and Abusive"
   ]
  },
  {
   "cell_type": "code",
   "execution_count": 5,
   "id": "8f4c2f27",
   "metadata": {},
   "outputs": [
    {
     "name": "stdout",
     "output_type": "stream",
     "text": [
      "success\n"
     ]
    }
   ],
   "source": [
    "alay_df = pd.read_csv('new_kamusalay.csv', encoding='latin-1', header= None)\n",
    "print('success')"
   ]
  },
  {
   "cell_type": "code",
   "execution_count": 6,
   "id": "b45e9a69",
   "metadata": {},
   "outputs": [
    {
     "data": {
      "text/html": [
       "<div>\n",
       "<style scoped>\n",
       "    .dataframe tbody tr th:only-of-type {\n",
       "        vertical-align: middle;\n",
       "    }\n",
       "\n",
       "    .dataframe tbody tr th {\n",
       "        vertical-align: top;\n",
       "    }\n",
       "\n",
       "    .dataframe thead th {\n",
       "        text-align: right;\n",
       "    }\n",
       "</style>\n",
       "<table border=\"1\" class=\"dataframe\">\n",
       "  <thead>\n",
       "    <tr style=\"text-align: right;\">\n",
       "      <th></th>\n",
       "      <th>0</th>\n",
       "      <th>1</th>\n",
       "    </tr>\n",
       "  </thead>\n",
       "  <tbody>\n",
       "    <tr>\n",
       "      <th>0</th>\n",
       "      <td>anakjakartaasikasik</td>\n",
       "      <td>anak jakarta asyik asyik</td>\n",
       "    </tr>\n",
       "    <tr>\n",
       "      <th>1</th>\n",
       "      <td>pakcikdahtua</td>\n",
       "      <td>pak cik sudah tua</td>\n",
       "    </tr>\n",
       "    <tr>\n",
       "      <th>2</th>\n",
       "      <td>pakcikmudalagi</td>\n",
       "      <td>pak cik muda lagi</td>\n",
       "    </tr>\n",
       "    <tr>\n",
       "      <th>3</th>\n",
       "      <td>t3tapjokowi</td>\n",
       "      <td>tetap jokowi</td>\n",
       "    </tr>\n",
       "    <tr>\n",
       "      <th>4</th>\n",
       "      <td>3x</td>\n",
       "      <td>tiga kali</td>\n",
       "    </tr>\n",
       "    <tr>\n",
       "      <th>...</th>\n",
       "      <td>...</td>\n",
       "      <td>...</td>\n",
       "    </tr>\n",
       "    <tr>\n",
       "      <th>15163</th>\n",
       "      <td>mendag</td>\n",
       "      <td>menteri perdagangan</td>\n",
       "    </tr>\n",
       "    <tr>\n",
       "      <th>15164</th>\n",
       "      <td>menaker</td>\n",
       "      <td>menteri tenaga kerja</td>\n",
       "    </tr>\n",
       "    <tr>\n",
       "      <th>15165</th>\n",
       "      <td>memetwit</td>\n",
       "      <td>mentwit</td>\n",
       "    </tr>\n",
       "    <tr>\n",
       "      <th>15166</th>\n",
       "      <td>megangin</td>\n",
       "      <td>memegang</td>\n",
       "    </tr>\n",
       "    <tr>\n",
       "      <th>15167</th>\n",
       "      <td>gue</td>\n",
       "      <td>aku</td>\n",
       "    </tr>\n",
       "  </tbody>\n",
       "</table>\n",
       "<p>15168 rows × 2 columns</p>\n",
       "</div>"
      ],
      "text/plain": [
       "                         0                         1\n",
       "0      anakjakartaasikasik  anak jakarta asyik asyik\n",
       "1             pakcikdahtua         pak cik sudah tua\n",
       "2           pakcikmudalagi         pak cik muda lagi\n",
       "3              t3tapjokowi              tetap jokowi\n",
       "4                       3x                 tiga kali\n",
       "...                    ...                       ...\n",
       "15163               mendag       menteri perdagangan\n",
       "15164              menaker      menteri tenaga kerja\n",
       "15165             memetwit                   mentwit\n",
       "15166             megangin                  memegang\n",
       "15167                  gue                       aku\n",
       "\n",
       "[15168 rows x 2 columns]"
      ]
     },
     "execution_count": 6,
     "metadata": {},
     "output_type": "execute_result"
    }
   ],
   "source": [
    "alay_df"
   ]
  },
  {
   "cell_type": "code",
   "execution_count": 7,
   "id": "810dbb4b",
   "metadata": {},
   "outputs": [
    {
     "name": "stdout",
     "output_type": "stream",
     "text": [
      "success\n"
     ]
    }
   ],
   "source": [
    "abusive_df = pd.read_csv('abusive.csv', encoding='latin-1')\n",
    "print('success')"
   ]
  },
  {
   "cell_type": "code",
   "execution_count": 8,
   "id": "dd2ec484",
   "metadata": {},
   "outputs": [
    {
     "data": {
      "text/html": [
       "<div>\n",
       "<style scoped>\n",
       "    .dataframe tbody tr th:only-of-type {\n",
       "        vertical-align: middle;\n",
       "    }\n",
       "\n",
       "    .dataframe tbody tr th {\n",
       "        vertical-align: top;\n",
       "    }\n",
       "\n",
       "    .dataframe thead th {\n",
       "        text-align: right;\n",
       "    }\n",
       "</style>\n",
       "<table border=\"1\" class=\"dataframe\">\n",
       "  <thead>\n",
       "    <tr style=\"text-align: right;\">\n",
       "      <th></th>\n",
       "      <th>ABUSIVE</th>\n",
       "    </tr>\n",
       "  </thead>\n",
       "  <tbody>\n",
       "    <tr>\n",
       "      <th>0</th>\n",
       "      <td>alay</td>\n",
       "    </tr>\n",
       "    <tr>\n",
       "      <th>1</th>\n",
       "      <td>ampas</td>\n",
       "    </tr>\n",
       "    <tr>\n",
       "      <th>2</th>\n",
       "      <td>buta</td>\n",
       "    </tr>\n",
       "    <tr>\n",
       "      <th>3</th>\n",
       "      <td>keparat</td>\n",
       "    </tr>\n",
       "    <tr>\n",
       "      <th>4</th>\n",
       "      <td>anjing</td>\n",
       "    </tr>\n",
       "    <tr>\n",
       "      <th>...</th>\n",
       "      <td>...</td>\n",
       "    </tr>\n",
       "    <tr>\n",
       "      <th>120</th>\n",
       "      <td>rezim</td>\n",
       "    </tr>\n",
       "    <tr>\n",
       "      <th>121</th>\n",
       "      <td>sange</td>\n",
       "    </tr>\n",
       "    <tr>\n",
       "      <th>122</th>\n",
       "      <td>serbet</td>\n",
       "    </tr>\n",
       "    <tr>\n",
       "      <th>123</th>\n",
       "      <td>sipit</td>\n",
       "    </tr>\n",
       "    <tr>\n",
       "      <th>124</th>\n",
       "      <td>transgender</td>\n",
       "    </tr>\n",
       "  </tbody>\n",
       "</table>\n",
       "<p>125 rows × 1 columns</p>\n",
       "</div>"
      ],
      "text/plain": [
       "         ABUSIVE\n",
       "0           alay\n",
       "1          ampas\n",
       "2           buta\n",
       "3        keparat\n",
       "4         anjing\n",
       "..           ...\n",
       "120        rezim\n",
       "121        sange\n",
       "122       serbet\n",
       "123        sipit\n",
       "124  transgender\n",
       "\n",
       "[125 rows x 1 columns]"
      ]
     },
     "execution_count": 8,
     "metadata": {},
     "output_type": "execute_result"
    }
   ],
   "source": [
    "abusive_df"
   ]
  },
  {
   "cell_type": "markdown",
   "id": "dccbe5f8",
   "metadata": {},
   "source": [
    "### 6. Statistical Information about the Data"
   ]
  },
  {
   "cell_type": "code",
   "execution_count": 9,
   "id": "95e9976c",
   "metadata": {},
   "outputs": [
    {
     "data": {
      "text/html": [
       "<div>\n",
       "<style scoped>\n",
       "    .dataframe tbody tr th:only-of-type {\n",
       "        vertical-align: middle;\n",
       "    }\n",
       "\n",
       "    .dataframe tbody tr th {\n",
       "        vertical-align: top;\n",
       "    }\n",
       "\n",
       "    .dataframe thead th {\n",
       "        text-align: right;\n",
       "    }\n",
       "</style>\n",
       "<table border=\"1\" class=\"dataframe\">\n",
       "  <thead>\n",
       "    <tr style=\"text-align: right;\">\n",
       "      <th></th>\n",
       "      <th>HS</th>\n",
       "      <th>Abusive</th>\n",
       "      <th>HS_Individual</th>\n",
       "      <th>HS_Group</th>\n",
       "      <th>HS_Religion</th>\n",
       "      <th>HS_Race</th>\n",
       "      <th>HS_Physical</th>\n",
       "      <th>HS_Gender</th>\n",
       "      <th>HS_Other</th>\n",
       "      <th>HS_Weak</th>\n",
       "      <th>HS_Moderate</th>\n",
       "      <th>HS_Strong</th>\n",
       "    </tr>\n",
       "  </thead>\n",
       "  <tbody>\n",
       "    <tr>\n",
       "      <th>count</th>\n",
       "      <td>13169.000000</td>\n",
       "      <td>13169.000000</td>\n",
       "      <td>13169.000000</td>\n",
       "      <td>13169.000000</td>\n",
       "      <td>13169.000000</td>\n",
       "      <td>13169.000000</td>\n",
       "      <td>13169.000000</td>\n",
       "      <td>13169.000000</td>\n",
       "      <td>13169.000000</td>\n",
       "      <td>13169.000000</td>\n",
       "      <td>13169.000000</td>\n",
       "      <td>13169.000000</td>\n",
       "    </tr>\n",
       "    <tr>\n",
       "      <th>mean</th>\n",
       "      <td>0.422280</td>\n",
       "      <td>0.382945</td>\n",
       "      <td>0.271471</td>\n",
       "      <td>0.150809</td>\n",
       "      <td>0.060217</td>\n",
       "      <td>0.042980</td>\n",
       "      <td>0.024527</td>\n",
       "      <td>0.023236</td>\n",
       "      <td>0.284000</td>\n",
       "      <td>0.256891</td>\n",
       "      <td>0.129471</td>\n",
       "      <td>0.035918</td>\n",
       "    </tr>\n",
       "    <tr>\n",
       "      <th>std</th>\n",
       "      <td>0.493941</td>\n",
       "      <td>0.486123</td>\n",
       "      <td>0.444735</td>\n",
       "      <td>0.357876</td>\n",
       "      <td>0.237898</td>\n",
       "      <td>0.202819</td>\n",
       "      <td>0.154685</td>\n",
       "      <td>0.150659</td>\n",
       "      <td>0.450954</td>\n",
       "      <td>0.436935</td>\n",
       "      <td>0.335733</td>\n",
       "      <td>0.186092</td>\n",
       "    </tr>\n",
       "    <tr>\n",
       "      <th>min</th>\n",
       "      <td>0.000000</td>\n",
       "      <td>0.000000</td>\n",
       "      <td>0.000000</td>\n",
       "      <td>0.000000</td>\n",
       "      <td>0.000000</td>\n",
       "      <td>0.000000</td>\n",
       "      <td>0.000000</td>\n",
       "      <td>0.000000</td>\n",
       "      <td>0.000000</td>\n",
       "      <td>0.000000</td>\n",
       "      <td>0.000000</td>\n",
       "      <td>0.000000</td>\n",
       "    </tr>\n",
       "    <tr>\n",
       "      <th>25%</th>\n",
       "      <td>0.000000</td>\n",
       "      <td>0.000000</td>\n",
       "      <td>0.000000</td>\n",
       "      <td>0.000000</td>\n",
       "      <td>0.000000</td>\n",
       "      <td>0.000000</td>\n",
       "      <td>0.000000</td>\n",
       "      <td>0.000000</td>\n",
       "      <td>0.000000</td>\n",
       "      <td>0.000000</td>\n",
       "      <td>0.000000</td>\n",
       "      <td>0.000000</td>\n",
       "    </tr>\n",
       "    <tr>\n",
       "      <th>50%</th>\n",
       "      <td>0.000000</td>\n",
       "      <td>0.000000</td>\n",
       "      <td>0.000000</td>\n",
       "      <td>0.000000</td>\n",
       "      <td>0.000000</td>\n",
       "      <td>0.000000</td>\n",
       "      <td>0.000000</td>\n",
       "      <td>0.000000</td>\n",
       "      <td>0.000000</td>\n",
       "      <td>0.000000</td>\n",
       "      <td>0.000000</td>\n",
       "      <td>0.000000</td>\n",
       "    </tr>\n",
       "    <tr>\n",
       "      <th>75%</th>\n",
       "      <td>1.000000</td>\n",
       "      <td>1.000000</td>\n",
       "      <td>1.000000</td>\n",
       "      <td>0.000000</td>\n",
       "      <td>0.000000</td>\n",
       "      <td>0.000000</td>\n",
       "      <td>0.000000</td>\n",
       "      <td>0.000000</td>\n",
       "      <td>1.000000</td>\n",
       "      <td>1.000000</td>\n",
       "      <td>0.000000</td>\n",
       "      <td>0.000000</td>\n",
       "    </tr>\n",
       "    <tr>\n",
       "      <th>max</th>\n",
       "      <td>1.000000</td>\n",
       "      <td>1.000000</td>\n",
       "      <td>1.000000</td>\n",
       "      <td>1.000000</td>\n",
       "      <td>1.000000</td>\n",
       "      <td>1.000000</td>\n",
       "      <td>1.000000</td>\n",
       "      <td>1.000000</td>\n",
       "      <td>1.000000</td>\n",
       "      <td>1.000000</td>\n",
       "      <td>1.000000</td>\n",
       "      <td>1.000000</td>\n",
       "    </tr>\n",
       "  </tbody>\n",
       "</table>\n",
       "</div>"
      ],
      "text/plain": [
       "                 HS       Abusive  HS_Individual      HS_Group   HS_Religion  \\\n",
       "count  13169.000000  13169.000000   13169.000000  13169.000000  13169.000000   \n",
       "mean       0.422280      0.382945       0.271471      0.150809      0.060217   \n",
       "std        0.493941      0.486123       0.444735      0.357876      0.237898   \n",
       "min        0.000000      0.000000       0.000000      0.000000      0.000000   \n",
       "25%        0.000000      0.000000       0.000000      0.000000      0.000000   \n",
       "50%        0.000000      0.000000       0.000000      0.000000      0.000000   \n",
       "75%        1.000000      1.000000       1.000000      0.000000      0.000000   \n",
       "max        1.000000      1.000000       1.000000      1.000000      1.000000   \n",
       "\n",
       "            HS_Race   HS_Physical     HS_Gender      HS_Other       HS_Weak  \\\n",
       "count  13169.000000  13169.000000  13169.000000  13169.000000  13169.000000   \n",
       "mean       0.042980      0.024527      0.023236      0.284000      0.256891   \n",
       "std        0.202819      0.154685      0.150659      0.450954      0.436935   \n",
       "min        0.000000      0.000000      0.000000      0.000000      0.000000   \n",
       "25%        0.000000      0.000000      0.000000      0.000000      0.000000   \n",
       "50%        0.000000      0.000000      0.000000      0.000000      0.000000   \n",
       "75%        0.000000      0.000000      0.000000      1.000000      1.000000   \n",
       "max        1.000000      1.000000      1.000000      1.000000      1.000000   \n",
       "\n",
       "        HS_Moderate     HS_Strong  \n",
       "count  13169.000000  13169.000000  \n",
       "mean       0.129471      0.035918  \n",
       "std        0.335733      0.186092  \n",
       "min        0.000000      0.000000  \n",
       "25%        0.000000      0.000000  \n",
       "50%        0.000000      0.000000  \n",
       "75%        0.000000      0.000000  \n",
       "max        1.000000      1.000000  "
      ]
     },
     "execution_count": 9,
     "metadata": {},
     "output_type": "execute_result"
    }
   ],
   "source": [
    "data.describe()"
   ]
  },
  {
   "cell_type": "code",
   "execution_count": 12,
   "id": "459cfe66",
   "metadata": {},
   "outputs": [
    {
     "name": "stdout",
     "output_type": "stream",
     "text": [
      "Total number of rows:  13169\n",
      "Total number of columns:  13\n"
     ]
    },
    {
     "data": {
      "text/html": [
       "<div>\n",
       "<style scoped>\n",
       "    .dataframe tbody tr th:only-of-type {\n",
       "        vertical-align: middle;\n",
       "    }\n",
       "\n",
       "    .dataframe tbody tr th {\n",
       "        vertical-align: top;\n",
       "    }\n",
       "\n",
       "    .dataframe thead th {\n",
       "        text-align: right;\n",
       "    }\n",
       "</style>\n",
       "<table border=\"1\" class=\"dataframe\">\n",
       "  <thead>\n",
       "    <tr style=\"text-align: right;\">\n",
       "      <th></th>\n",
       "      <th>Unique</th>\n",
       "      <th>Null</th>\n",
       "      <th>Type Data</th>\n",
       "    </tr>\n",
       "  </thead>\n",
       "  <tbody>\n",
       "    <tr>\n",
       "      <th>Tweet</th>\n",
       "      <td>13023</td>\n",
       "      <td>0</td>\n",
       "      <td>object</td>\n",
       "    </tr>\n",
       "    <tr>\n",
       "      <th>HS</th>\n",
       "      <td>2</td>\n",
       "      <td>0</td>\n",
       "      <td>int64</td>\n",
       "    </tr>\n",
       "    <tr>\n",
       "      <th>Abusive</th>\n",
       "      <td>2</td>\n",
       "      <td>0</td>\n",
       "      <td>int64</td>\n",
       "    </tr>\n",
       "    <tr>\n",
       "      <th>HS_Individual</th>\n",
       "      <td>2</td>\n",
       "      <td>0</td>\n",
       "      <td>int64</td>\n",
       "    </tr>\n",
       "    <tr>\n",
       "      <th>HS_Group</th>\n",
       "      <td>2</td>\n",
       "      <td>0</td>\n",
       "      <td>int64</td>\n",
       "    </tr>\n",
       "    <tr>\n",
       "      <th>HS_Religion</th>\n",
       "      <td>2</td>\n",
       "      <td>0</td>\n",
       "      <td>int64</td>\n",
       "    </tr>\n",
       "    <tr>\n",
       "      <th>HS_Race</th>\n",
       "      <td>2</td>\n",
       "      <td>0</td>\n",
       "      <td>int64</td>\n",
       "    </tr>\n",
       "    <tr>\n",
       "      <th>HS_Physical</th>\n",
       "      <td>2</td>\n",
       "      <td>0</td>\n",
       "      <td>int64</td>\n",
       "    </tr>\n",
       "    <tr>\n",
       "      <th>HS_Gender</th>\n",
       "      <td>2</td>\n",
       "      <td>0</td>\n",
       "      <td>int64</td>\n",
       "    </tr>\n",
       "    <tr>\n",
       "      <th>HS_Other</th>\n",
       "      <td>2</td>\n",
       "      <td>0</td>\n",
       "      <td>int64</td>\n",
       "    </tr>\n",
       "    <tr>\n",
       "      <th>HS_Weak</th>\n",
       "      <td>2</td>\n",
       "      <td>0</td>\n",
       "      <td>int64</td>\n",
       "    </tr>\n",
       "    <tr>\n",
       "      <th>HS_Moderate</th>\n",
       "      <td>2</td>\n",
       "      <td>0</td>\n",
       "      <td>int64</td>\n",
       "    </tr>\n",
       "    <tr>\n",
       "      <th>HS_Strong</th>\n",
       "      <td>2</td>\n",
       "      <td>0</td>\n",
       "      <td>int64</td>\n",
       "    </tr>\n",
       "  </tbody>\n",
       "</table>\n",
       "</div>"
      ],
      "text/plain": [
       "               Unique  Null Type Data\n",
       "Tweet           13023     0    object\n",
       "HS                  2     0     int64\n",
       "Abusive             2     0     int64\n",
       "HS_Individual       2     0     int64\n",
       "HS_Group            2     0     int64\n",
       "HS_Religion         2     0     int64\n",
       "HS_Race             2     0     int64\n",
       "HS_Physical         2     0     int64\n",
       "HS_Gender           2     0     int64\n",
       "HS_Other            2     0     int64\n",
       "HS_Weak             2     0     int64\n",
       "HS_Moderate         2     0     int64\n",
       "HS_Strong           2     0     int64"
      ]
     },
     "execution_count": 12,
     "metadata": {},
     "output_type": "execute_result"
    }
   ],
   "source": [
    "print(\"Total number of rows: \", data.shape[0])\n",
    "print(\"Total number of columns: \", data.shape[1])\n",
    "\n",
    "tabel_info = pd.DataFrame({\n",
    "    'Unique':data.nunique(),\n",
    "    'Null':data.isna().sum(),\n",
    "    'Type Data':data.dtypes.values\n",
    "})\n",
    "\n",
    "tabel_info"
   ]
  },
  {
   "cell_type": "code",
   "execution_count": 13,
   "id": "7f935b5e",
   "metadata": {},
   "outputs": [
    {
     "data": {
      "text/plain": [
       "Index(['Tweet', 'HS', 'Abusive', 'HS_Individual', 'HS_Group', 'HS_Religion',\n",
       "       'HS_Race', 'HS_Physical', 'HS_Gender', 'HS_Other', 'HS_Weak',\n",
       "       'HS_Moderate', 'HS_Strong'],\n",
       "      dtype='object')"
      ]
     },
     "execution_count": 13,
     "metadata": {},
     "output_type": "execute_result"
    }
   ],
   "source": [
    "data.columns"
   ]
  },
  {
   "cell_type": "markdown",
   "id": "60d65e9e",
   "metadata": {},
   "source": [
    "### 7. Data Cleansing"
   ]
  },
  {
   "cell_type": "markdown",
   "id": "b04cbb5d",
   "metadata": {},
   "source": [
    "### a. Data Duplicated"
   ]
  },
  {
   "cell_type": "code",
   "execution_count": 14,
   "id": "0719eb5e",
   "metadata": {},
   "outputs": [
    {
     "data": {
      "text/plain": [
       "125"
      ]
     },
     "execution_count": 14,
     "metadata": {},
     "output_type": "execute_result"
    }
   ],
   "source": [
    "data.duplicated().sum()"
   ]
  },
  {
   "cell_type": "markdown",
   "id": "71cddfc2",
   "metadata": {},
   "source": [
    "### b. Drop Data Duplicated"
   ]
  },
  {
   "cell_type": "code",
   "execution_count": 15,
   "id": "f72fa131",
   "metadata": {},
   "outputs": [
    {
     "name": "stdout",
     "output_type": "stream",
     "text": [
      "success\n"
     ]
    }
   ],
   "source": [
    "data.drop_duplicates(inplace=True)\n",
    "print('success')"
   ]
  },
  {
   "cell_type": "code",
   "execution_count": 16,
   "id": "e7356042",
   "metadata": {},
   "outputs": [
    {
     "data": {
      "text/plain": [
       "0"
      ]
     },
     "execution_count": 16,
     "metadata": {},
     "output_type": "execute_result"
    }
   ],
   "source": [
    "data.duplicated().sum()"
   ]
  },
  {
   "cell_type": "markdown",
   "id": "1120c2b3",
   "metadata": {},
   "source": [
    "### c. Cleaning Data Tweet"
   ]
  },
  {
   "cell_type": "code",
   "execution_count": 17,
   "id": "a7e20e8e",
   "metadata": {},
   "outputs": [
    {
     "name": "stdout",
     "output_type": "stream",
     "text": [
      "success\n"
     ]
    }
   ],
   "source": [
    "def clean_text(text):\n",
    "    text = text.lower()\n",
    "    text = re.sub(r'\\\\t|\\\\n|\\\\u', ' ', text) #Menghapus karakter khusus seperti tab, baris baru, karakter Unicode, dan backslash.\n",
    "    text = re.sub(r\"https?:[^\\s]+\", ' ', text)  # Menghapus http / https\n",
    "    text = re.sub(r\"[^\\w\\s+]\", '', text)  # Menghapus karakter kecuali huruf, angka, dan spasi\n",
    "    text = re.sub(r'rt|user', ' ', text)  # Menghapus kata-kata 'rt' dan 'user'\n",
    "    text = re.sub(r'[\\\\x]+[a-z0-9]{2}', '', text)  # Menghapus karakter yang dimulai dengan '\\x' diikuti oleh dua karakter huruf atau angka\n",
    "    text = re.sub(r'[^\\x00-\\x7F]+', '', text)  # Remove non-ASCII characters\n",
    "    text = text.replace('_', ' ')  # Menghapus underscore\n",
    "    text = re.sub(r'(\\d+)', r' \\1 ', text)  # Memisahkan angka dari teks\n",
    "    text = re.sub(r'\\s+', ' ', text).strip()  # Menggabungkan spasi berturut-turut menjadi satu spasi\n",
    "    text = re.sub(r'(\\d+)', lambda x: num2words(int(x.group(0)), lang='id'), text)  # Mengonversi angka menjadi kata\n",
    "    return text\n",
    "\n",
    "data['Tweet'] = data['Tweet'].apply(clean_text)\n",
    "print('success')"
   ]
  },
  {
   "cell_type": "markdown",
   "id": "8d7a6f93",
   "metadata": {},
   "source": [
    "### d. After Cleaning Data Tweet"
   ]
  },
  {
   "cell_type": "code",
   "execution_count": 18,
   "id": "f0d7cff1",
   "metadata": {},
   "outputs": [
    {
     "data": {
      "text/plain": [
       "0     disaat semua cowok berusaha melacak perhatian ...\n",
       "1     siapa yang telat ngasih tau eluedan sarap gue ...\n",
       "2     empat puluh satu kadang aku berfikir kenapa ak...\n",
       "3     aku itu aku ku tau matamu sipit tapi diliat da...\n",
       "4     kaum cebong kapir udah keliatan dongoknya dari...\n",
       "5                                    ya bani taplak dkk\n",
       "6     deklarasi pilkada dua ribu delapan belas aman ...\n",
       "7     gue baru aja kelar rewatch aldnoah zero paling...\n",
       "8     nah admin belanja satu lagi po terbaik nak mak...\n",
       "9                               enak lg klo smbil ngewe\n",
       "10    setidaknya gw punya jari tengah buat lu sebelo...\n",
       "11    banci kaleng malu ga bisa jawab pe anyaan kami...\n",
       "12    kalo belajar ekonomi mestinya jago memprivatis...\n",
       "13    aktor huruhara sembilan puluh delapan prabowo ...\n",
       "14    bu guru enakan jadi jablay atau guru esde sih ...\n",
       "15    lawan bicara gw gak intelek kyk loe yg otak ga...\n",
       "16           belakangan ini kok fikiran ampas banget ya\n",
       "17                      ari sarua beki mah repeh monyet\n",
       "18    jadi cowo itu harus gantle kalo ga gantle itu ...\n",
       "19                                         slga mnr bom\n",
       "Name: Tweet, dtype: object"
      ]
     },
     "execution_count": 18,
     "metadata": {},
     "output_type": "execute_result"
    }
   ],
   "source": [
    "data[\"Tweet\"].head(20)"
   ]
  },
  {
   "cell_type": "code",
   "execution_count": 19,
   "id": "7dfefe62",
   "metadata": {},
   "outputs": [
    {
     "data": {
      "text/plain": [
       "'semangkin semarak dua ribu sembilan belas gantipresiden dua ribu sembilan belas presidenbaru'"
      ]
     },
     "execution_count": 19,
     "metadata": {},
     "output_type": "execute_result"
    }
   ],
   "source": [
    "data.Tweet[6451]"
   ]
  },
  {
   "cell_type": "markdown",
   "id": "be125a4e",
   "metadata": {},
   "source": [
    "### 8. Exploratory Data Analyst (EDA)"
   ]
  },
  {
   "cell_type": "code",
   "execution_count": null,
   "id": "6cfe8a87",
   "metadata": {},
   "outputs": [],
   "source": [
    "abusive_words = abusive_df['ABUSIVE'].tolist()\n",
    "\n",
    "word_counts = dict()\n",
    "\n",
    "for i in data['Tweet']:"
   ]
  }
 ],
 "metadata": {
  "kernelspec": {
   "display_name": "Python 3 (ipykernel)",
   "language": "python",
   "name": "python3"
  },
  "language_info": {
   "codemirror_mode": {
    "name": "ipython",
    "version": 3
   },
   "file_extension": ".py",
   "mimetype": "text/x-python",
   "name": "python",
   "nbconvert_exporter": "python",
   "pygments_lexer": "ipython3",
   "version": "3.9.18"
  }
 },
 "nbformat": 4,
 "nbformat_minor": 5
}
