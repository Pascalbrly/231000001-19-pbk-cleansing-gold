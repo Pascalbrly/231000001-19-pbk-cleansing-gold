{
 "cells": [
  {
   "cell_type": "code",
   "execution_count": 1,
   "id": "8c799ae4",
   "metadata": {},
   "outputs": [
    {
     "name": "stdout",
     "output_type": "stream",
     "text": [
      "success\n"
     ]
    }
   ],
   "source": [
    "import pandas as pd\n",
    "import re\n",
    "from num2words import num2words\n",
    "import sqlite3\n",
    "\n",
    "print ('success')"
   ]
  },
  {
   "cell_type": "code",
   "execution_count": 2,
   "id": "29ddf144",
   "metadata": {},
   "outputs": [
    {
     "data": {
      "text/plain": [
       "(13169, 13)"
      ]
     },
     "execution_count": 2,
     "metadata": {},
     "output_type": "execute_result"
    }
   ],
   "source": [
    "data = pd.read_csv('data.csv',encoding='latin-1')\n",
    "data.shape"
   ]
  },
  {
   "cell_type": "code",
   "execution_count": 3,
   "id": "7002467d",
   "metadata": {},
   "outputs": [],
   "source": [
    "# alay_df = pd.read_csv('new_kamusalay.csv', encoding='latin-1', header=None)\n",
    "# alay_list = alay_df.values.tolist()\n",
    "# print('success')"
   ]
  },
  {
   "cell_type": "code",
   "execution_count": 4,
   "id": "09876896",
   "metadata": {},
   "outputs": [
    {
     "name": "stdout",
     "output_type": "stream",
     "text": [
      "success\n"
     ]
    }
   ],
   "source": [
    "conn = sqlite3.connect('binar_gold.db')\n",
    "cursor = conn.cursor()\n",
    "print('success')"
   ]
  },
  {
   "cell_type": "code",
   "execution_count": 5,
   "id": "35786722",
   "metadata": {
    "scrolled": true
   },
   "outputs": [
    {
     "name": "stdout",
     "output_type": "stream",
     "text": [
      "success\n"
     ]
    }
   ],
   "source": [
    "cursor.execute('drop table if exists new_kamusalay')\n",
    "conn.commit()\n",
    "print('success')"
   ]
  },
  {
   "cell_type": "code",
   "execution_count": 6,
   "id": "4be62f33",
   "metadata": {},
   "outputs": [],
   "source": [
    "# cursor.execute('create table new_kamusalay(alay text, baku text)')\n",
    "# conn.commit()\n",
    "# print('success')"
   ]
  },
  {
   "cell_type": "code",
   "execution_count": 7,
   "id": "4479aaa0",
   "metadata": {},
   "outputs": [],
   "source": [
    "# for i in alay_list:\n",
    "#     cursor.execute('insert into new_kamusalay(alay,baku) values (?,?)',i)\n",
    "#     conn.commit()"
   ]
  },
  {
   "cell_type": "code",
   "execution_count": 8,
   "id": "da1d8b7d",
   "metadata": {},
   "outputs": [],
   "source": [
    "# new_kamusalay = pd.read_sql_query('select * from new_kamusalay', conn)\n",
    "# new_kamusalay"
   ]
  },
  {
   "cell_type": "code",
   "execution_count": 9,
   "id": "5133fdd6",
   "metadata": {},
   "outputs": [
    {
     "name": "stdout",
     "output_type": "stream",
     "text": [
      " * Serving Flask app '__main__'\n",
      " * Debug mode: off\n"
     ]
    },
    {
     "name": "stderr",
     "output_type": "stream",
     "text": [
      "WARNING: This is a development server. Do not use it in a production deployment. Use a production WSGI server instead.\n",
      " * Running on http://127.0.0.1:5000\n",
      "Press CTRL+C to quit\n",
      "127.0.0.1 - - [25/Mar/2024 20:54:38] \"GET / HTTP/1.1\" 200 -\n",
      "127.0.0.1 - - [25/Mar/2024 20:54:43] \"GET /docs/ HTTP/1.1\" 200 -\n",
      "127.0.0.1 - - [25/Mar/2024 20:54:45] \"GET /flasgger_static/lib/jquery.min.js HTTP/1.1\" 304 -\n",
      "127.0.0.1 - - [25/Mar/2024 20:54:45] \"GET /flasgger_static/swagger-ui.css HTTP/1.1\" 304 -\n",
      "127.0.0.1 - - [25/Mar/2024 20:54:45] \"GET /flasgger_static/swagger-ui-standalone-preset.js HTTP/1.1\" 304 -\n",
      "127.0.0.1 - - [25/Mar/2024 20:54:45] \"GET /flasgger_static/swagger-ui-bundle.js HTTP/1.1\" 304 -\n",
      "127.0.0.1 - - [25/Mar/2024 20:54:46] \"GET /docs.json HTTP/1.1\" 200 -\n",
      "127.0.0.1 - - [25/Mar/2024 20:55:15] \"POST /text-processing-file HTTP/1.1\" 200 -\n",
      "127.0.0.1 - - [25/Mar/2024 20:55:37] \"POST /text-processing HTTP/1.1\" 200 -\n"
     ]
    }
   ],
   "source": [
    "# NEW\n",
    "from flask import Flask, jsonify\n",
    "from flask import request\n",
    "from flasgger import Swagger, LazyString, LazyJSONEncoder\n",
    "from flasgger import swag_from\n",
    "\n",
    "app = Flask(__name__)\n",
    "\n",
    "def clean_text(text):\n",
    "    text = text.lower()\n",
    "    text = re.sub(r'\\\\t|\\\\n|\\\\u', ' ', text)\n",
    "    text = re.sub(r\"https?:[^\\s]+\", ' ', text)\n",
    "    text = re.sub(r\"[^\\w\\s+]\", '', text)\n",
    "    text = re.sub(r'rt|user', ' ', text)\n",
    "    text = re.sub(r'[\\\\x]+[a-z0-9]{2}', '', text)\n",
    "    text = re.sub(r'[^\\x00-\\x7F]+', '', text)\n",
    "    text = text.replace('_', ' ')\n",
    "    text = re.sub(r'(\\d+)', r' \\1 ', text)\n",
    "    text = re.sub(r'\\s+', ' ', text).strip()\n",
    "    text = re.sub(r'(\\d+)', lambda x: num2words(int(x.group(0)), lang='id'), text)\n",
    "    return text\n",
    "\n",
    "# alay_filter = dict(zip(new_kamusalay['alay'], new_kamusalay['baku']))\n",
    "alay_df = pd.read_csv('new_kamusalay.csv', encoding='latin-1', header=None)\n",
    "alay_filter = dict(zip(alay_df[0], alay_df[1]))\n",
    "\n",
    "def normalisasi_alay(text):\n",
    "    return ' '.join(alay_filter.get(word, word) for word in text.split(' '))\n",
    "\n",
    "app.json_encoder = LazyJSONEncoder\n",
    "swagger_template = dict(\n",
    "info = {\n",
    "    'title': 'Pascal Gold Challenge',\n",
    "    'version': '1.0.0',\n",
    "    'description': 'Dokumentasi API untuk Data Processing dan Modeling',\n",
    "    },\n",
    "#     host = \"127.0.0.1:5000\"\n",
    "#     host = LazyString(lambda: request.host)\n",
    ")\n",
    "\n",
    "swagger_config = {\n",
    "    \"headers\": [],\n",
    "    \"specs\": [\n",
    "        {\n",
    "            \"endpoint\": 'docs',\n",
    "            \"route\": '/docs.json',\n",
    "        }\n",
    "    ],\n",
    "    \"static_url_path\": \"/flasgger_static\",\n",
    "    \"swagger_ui\": True,\n",
    "    \"specs_route\": \"/docs/\"\n",
    "}\n",
    "\n",
    "swagger = Swagger(app, template=swagger_template,             \n",
    "                  config=swagger_config)\n",
    "\n",
    "@swag_from(\"C://Users/Admin/Documents/GitHub/231000001-19-pbk-cleansing-gold/docs/hello_world.yml\", methods=['GET'])\n",
    "@app.route('/', methods=['GET'])\n",
    "def hello_world():\n",
    "    json_response = {\n",
    "        'status_code': 200,\n",
    "        'description': \"Menyapa Hello World\",\n",
    "        'data': \"Hello World\",\n",
    "    }\n",
    "\n",
    "    response_data = jsonify(json_response)\n",
    "    return response_data\n",
    "\n",
    "# @swag_from(\"C://Users/Admin/Documents/GitHub/231000001-19-pbk-cleansing-gold/docs/text.yml\", methods=['GET'])\n",
    "# @app.route('/text', methods=['GET'])\n",
    "# def text():\n",
    "#     json_response = {\n",
    "#         'status_code': 200,\n",
    "#         'description': \"Original Teks\",\n",
    "#         'data': \"Halo, apa kabar semua?\",\n",
    "#     }\n",
    "\n",
    "#     response_data = jsonify(json_response)\n",
    "#     return response_data\n",
    "\n",
    "# @swag_from(\"C://Users/Admin/Documents/GitHub/231000001-19-pbk-cleansing-gold/docs/text_clean.yml\", methods=['GET'])\n",
    "# @app.route('/text-clean', methods=['GET'])\n",
    "# def text_clean():\n",
    "#     json_response = {\n",
    "#         'status_code': 200,\n",
    "#         'description': \"Teks yang sudah dibersihkan\",\n",
    "#         'data': re.sub(r'[^a-zA-Z0-9]', ' ', \"Halo, apa kabar semua?\"),\n",
    "#     }\n",
    "\n",
    "#     response_data = jsonify(json_response)\n",
    "#     return response_data\n",
    "\n",
    "@swag_from(\"C://Users/Admin/Documents/GitHub/231000001-19-pbk-cleansing-gold/docs/text_processing.yml\", methods=['POST'])\n",
    "@app.route('/text-processing', methods=['POST'])\n",
    "def text_processing():\n",
    "\n",
    "    text = request.form.get('text')\n",
    "    cleaned_text = clean_text(text)\n",
    "    normalized_text = normalisasi_alay(cleaned_text)\n",
    "\n",
    "    json_response = {\n",
    "        'status_code': 200,\n",
    "        'description': \"Teks yang sudah diproses\",\n",
    "        'data': normalized_text,\n",
    "    }\n",
    "\n",
    "    response_data = jsonify(json_response)\n",
    "    return response_data\n",
    "\n",
    "@swag_from(\"C://Users/Admin/Documents/GitHub/231000001-19-pbk-cleansing-gold/docs/text_processing_file.yml\", methods=['POST'])\n",
    "@app.route('/text-processing-file', methods=['POST'])\n",
    "def text_processing_file():\n",
    "\n",
    "    # Upladed file\n",
    "    file = request.files.getlist('file')[0]\n",
    "\n",
    "    # Import file csv ke Pandas\n",
    "    data = pd.read_csv('data.csv',encoding='latin-1')\n",
    "\n",
    "    # Ambil teks yang akan diproses dalam format list\n",
    "    texts = data.Tweet.to_list()\n",
    "\n",
    "    # Lakukan cleansing pada teks\n",
    "    cleaned_text = []\n",
    "    for text in texts:\n",
    "        text = clean_text(text)\n",
    "        text = normalisasi_alay(text)\n",
    "        cleaned_text.append(text)\n",
    "    \n",
    "    # koneksi dengan database\n",
    "    conn = sqlite3.connect('binar_gold.db')\n",
    "    cursor = conn.cursor()\n",
    "\n",
    "    # membuat table cleaned_text \n",
    "    cursor.execute('create table if not exists cleaned_text(id integer primary key autoincrement, text text)')\n",
    "    \n",
    "    # insert data di table cleaned_text\n",
    "    for text in cleaned_text:\n",
    "        cursor.execute('insert into cleaned_text(text) values (?)', (text,))\n",
    "    \n",
    "    conn.commit()\n",
    "    \n",
    "    json_response = {\n",
    "        'status_code': 200,\n",
    "        'description': \"Teks yang sudah diproses\",\n",
    "        'data': cleaned_text,\n",
    "    }\n",
    "\n",
    "    response_data = jsonify(json_response)\n",
    "    return response_data\n",
    "\n",
    "if __name__ == '__main__':\n",
    "   app.run()"
   ]
  },
  {
   "cell_type": "code",
   "execution_count": null,
   "id": "41f831ec",
   "metadata": {
    "scrolled": true
   },
   "outputs": [],
   "source": [
    "cursor = conn.execute('select * from cleaned_text')\n",
    "for i in cursor:\n",
    "    print(i)"
   ]
  },
  {
   "cell_type": "code",
   "execution_count": null,
   "id": "cbfe7a98",
   "metadata": {},
   "outputs": [],
   "source": [
    "cleaned_text = pd.read_sql_query('select * from cleaned_text',conn)\n",
    "cleaned_text.head()"
   ]
  },
  {
   "cell_type": "code",
   "execution_count": null,
   "id": "cf4b1068",
   "metadata": {},
   "outputs": [],
   "source": [
    "cursor.execute('drop table if exists cleaned_text')\n",
    "conn.commit()\n",
    "print('success')"
   ]
  },
  {
   "cell_type": "code",
   "execution_count": null,
   "id": "71a8d057",
   "metadata": {},
   "outputs": [],
   "source": []
  }
 ],
 "metadata": {
  "kernelspec": {
   "display_name": "Python 3 (ipykernel)",
   "language": "python",
   "name": "python3"
  },
  "language_info": {
   "codemirror_mode": {
    "name": "ipython",
    "version": 3
   },
   "file_extension": ".py",
   "mimetype": "text/x-python",
   "name": "python",
   "nbconvert_exporter": "python",
   "pygments_lexer": "ipython3",
   "version": "3.9.18"
  }
 },
 "nbformat": 4,
 "nbformat_minor": 5
}
