{
 "cells": [
  {
   "cell_type": "code",
   "execution_count": 1,
   "id": "8c799ae4",
   "metadata": {},
   "outputs": [
    {
     "name": "stdout",
     "output_type": "stream",
     "text": [
      "success\n"
     ]
    }
   ],
   "source": [
    "import pandas as pd\n",
    "import re\n",
    "from num2words import num2words\n",
    "\n",
    "print ('success')"
   ]
  },
  {
   "cell_type": "code",
   "execution_count": 3,
   "id": "29ddf144",
   "metadata": {},
   "outputs": [
    {
     "data": {
      "text/plain": [
       "(13169, 13)"
      ]
     },
     "execution_count": 3,
     "metadata": {},
     "output_type": "execute_result"
    }
   ],
   "source": [
    "data = pd.read_csv('data.csv',encoding='latin-1')\n",
    "data.shape"
   ]
  },
  {
   "cell_type": "code",
   "execution_count": 4,
   "id": "944e0aa2",
   "metadata": {},
   "outputs": [
    {
     "name": "stdout",
     "output_type": "stream",
     "text": [
      "success\n"
     ]
    }
   ],
   "source": [
    "def clean_text(text):\n",
    "    text = text.lower()\n",
    "    text = re.sub(r'\\\\t|\\\\n|\\\\u', ' ', text) #Menghapus karakter khusus seperti tab, baris baru, karakter Unicode, dan backslash.\n",
    "    text = re.sub(r\"https?:[^\\s]+\", ' ', text)  # Menghapus http / https\n",
    "    text = re.sub(r\"[^\\w\\s+]\", '', text)  # Menghapus karakter kecuali huruf, angka, dan spasi\n",
    "    text = re.sub(r'rt|user', ' ', text)  # Menghapus kata-kata 'rt' dan 'user'\n",
    "    text = re.sub(r'[\\\\x]+[a-z0-9]{2}', '', text)  # Menghapus karakter yang dimulai dengan '\\x' diikuti oleh dua karakter huruf atau angka\n",
    "    text = re.sub(r'[^\\x00-\\x7F]+', '', text)  # Remove non-ASCII characters\n",
    "    text = text.replace('_', ' ')  # Menghapus underscore\n",
    "    text = re.sub(r'(\\d+)', r' \\1 ', text)  # Memisahkan angka dari teks\n",
    "    text = re.sub(r'\\s+', ' ', text).strip()  # Menggabungkan spasi berturut-turut menjadi satu spasi\n",
    "    text = re.sub(r'(\\d+)', lambda x: num2words(int(x.group(0)), lang='id'), text)  # Mengonversi angka menjadi kata\n",
    "    return text\n",
    "\n",
    "data['Tweet'] = data['Tweet'].apply(clean_text)\n",
    "print('success')"
   ]
  },
  {
   "cell_type": "code",
   "execution_count": null,
   "id": "5133fdd6",
   "metadata": {},
   "outputs": [
    {
     "name": "stdout",
     "output_type": "stream",
     "text": [
      " * Serving Flask app '__main__'\n",
      " * Debug mode: off\n"
     ]
    },
    {
     "name": "stderr",
     "output_type": "stream",
     "text": [
      "WARNING: This is a development server. Do not use it in a production deployment. Use a production WSGI server instead.\n",
      " * Running on http://127.0.0.1:5000\n",
      "Press CTRL+C to quit\n",
      "127.0.0.1 - - [15/Mar/2024 15:11:50] \"GET / HTTP/1.1\" 200 -\n",
      "127.0.0.1 - - [15/Mar/2024 15:11:50] \"GET /favicon.ico HTTP/1.1\" 404 -\n",
      "127.0.0.1 - - [15/Mar/2024 15:11:55] \"GET /docs/ HTTP/1.1\" 200 -\n",
      "127.0.0.1 - - [15/Mar/2024 15:11:56] \"GET /flasgger_static/swagger-ui.css HTTP/1.1\" 304 -\n",
      "127.0.0.1 - - [15/Mar/2024 15:11:56] \"GET /flasgger_static/lib/jquery.min.js HTTP/1.1\" 304 -\n",
      "127.0.0.1 - - [15/Mar/2024 15:11:56] \"GET /flasgger_static/swagger-ui-bundle.js HTTP/1.1\" 304 -\n",
      "127.0.0.1 - - [15/Mar/2024 15:11:56] \"GET /flasgger_static/swagger-ui-standalone-preset.js HTTP/1.1\" 304 -\n",
      "127.0.0.1 - - [15/Mar/2024 15:11:57] \"GET /docs.json HTTP/1.1\" 200 -\n",
      "127.0.0.1 - - [15/Mar/2024 15:12:33] \"POST /text-processing HTTP/1.1\" 200 -\n",
      "127.0.0.1 - - [15/Mar/2024 15:13:43] \"POST /text-processing-file HTTP/1.1\" 200 -\n"
     ]
    }
   ],
   "source": [
    "from flask import Flask, jsonify\n",
    "from flask import request\n",
    "from flasgger import Swagger, LazyString, LazyJSONEncoder\n",
    "from flasgger import swag_from\n",
    "\n",
    "app = Flask(__name__)\n",
    "\n",
    "app.json_encoder = LazyJSONEncoder\n",
    "swagger_template = dict(\n",
    "info = {\n",
    "    'title': 'API Documentation for Data Processing and Modeling',\n",
    "    'version': '1.0.0',\n",
    "    'description': 'Dokumentasi API untuk Data Processing dan Modeling',\n",
    "    },\n",
    "#     host = \"127.0.0.1:5000\"\n",
    "#     host = LazyString(lambda: request.host)\n",
    ")\n",
    "\n",
    "swagger_config = {\n",
    "    \"headers\": [],\n",
    "    \"specs\": [\n",
    "        {\n",
    "            \"endpoint\": 'docs',\n",
    "            \"route\": '/docs.json',\n",
    "        }\n",
    "    ],\n",
    "    \"static_url_path\": \"/flasgger_static\",\n",
    "    \"swagger_ui\": True,\n",
    "    \"specs_route\": \"/docs/\"\n",
    "}\n",
    "\n",
    "swagger = Swagger(app, template=swagger_template,             \n",
    "                  config=swagger_config)\n",
    "\n",
    "@swag_from(\"C://Users/Admin/Documents/GitHub/231000001-19-pbk-cleansing-gold/docs/hello_world.yml\", methods=['GET'])\n",
    "@app.route('/', methods=['GET'])\n",
    "def hello_world():\n",
    "    json_response = {\n",
    "        'status_code': 200,\n",
    "        'description': \"Menyapa Hello World\",\n",
    "        'data': \"Hello World\",\n",
    "    }\n",
    "\n",
    "    response_data = jsonify(json_response)\n",
    "    return response_data\n",
    "\n",
    "@swag_from(\"C://Users/Admin/Documents/GitHub/231000001-19-pbk-cleansing-gold/docs/text.yml\", methods=['GET'])\n",
    "@app.route('/text', methods=['GET'])\n",
    "def text():\n",
    "    json_response = {\n",
    "        'status_code': 200,\n",
    "        'description': \"Original Teks\",\n",
    "        'data': \"Halo, apa kabar semua?\",\n",
    "    }\n",
    "\n",
    "    response_data = jsonify(json_response)\n",
    "    return response_data\n",
    "\n",
    "@swag_from(\"C://Users/Admin/Documents/GitHub/231000001-19-pbk-cleansing-gold/docs/text_clean.yml\", methods=['GET'])\n",
    "@app.route('/text-clean', methods=['GET'])\n",
    "def text_clean():\n",
    "    json_response = {\n",
    "        'status_code': 200,\n",
    "        'description': \"Teks yang sudah dibersihkan\",\n",
    "        'data': re.sub(r'[^a-zA-Z0-9]', ' ', \"Halo, apa kabar semua?\"),\n",
    "    }\n",
    "\n",
    "    response_data = jsonify(json_response)\n",
    "    return response_data\n",
    "\n",
    "@swag_from(\"C://Users/Admin/Documents/GitHub/231000001-19-pbk-cleansing-gold/docs/text_processing.yml\", methods=['POST'])\n",
    "@app.route('/text-processing', methods=['POST'])\n",
    "def text_processing():\n",
    "\n",
    "    text = request.form.get('text')\n",
    "    cleaned_text = clean_text(text)\n",
    "\n",
    "    json_response = {\n",
    "        'status_code': 200,\n",
    "        'description': \"Teks yang sudah diproses\",\n",
    "        'data': cleaned_text,\n",
    "    }\n",
    "\n",
    "    response_data = jsonify(json_response)\n",
    "    return response_data\n",
    "\n",
    "@swag_from(\"C://Users/Admin/Documents/GitHub/231000001-19-pbk-cleansing-gold/docs/text_processing_file.yml\", methods=['POST'])\n",
    "@app.route('/text-processing-file', methods=['POST'])\n",
    "def text_processing_file():\n",
    "\n",
    "    # Upladed file\n",
    "    file = request.files.getlist('file')[0]\n",
    "\n",
    "    # Import file csv ke Pandas\n",
    "    data = pd.read_csv('data.csv',encoding='latin-1')\n",
    "\n",
    "    # Ambil teks yang akan diproses dalam format list\n",
    "    texts = data.Tweet.to_list()\n",
    "\n",
    "    # Lakukan cleansing pada teks\n",
    "    cleaned_text = []\n",
    "    for text in texts:\n",
    "        text = text.lower()\n",
    "        text = re.sub(r'\\\\t|\\\\n|\\\\u', ' ', text) # Menghapus karakter khusus seperti tab, baris baru, karakter Unicode, dan backslash.\n",
    "        text = re.sub(r\"https?:[^\\s]+\", ' ', text)  # Menghapus http / https\n",
    "        text = re.sub(r\"[^\\w\\s+]\", '', text)  # Menghapus karakter kecuali huruf, angka, dan spasi\n",
    "        text = re.sub(r'rt|user', ' ', text)  # Menghapus kata-kata 'rt' dan 'user'\n",
    "        text = re.sub(r'[\\\\x]+[a-z0-9]{2}', '', text)  # Menghapus karakter yang dimulai dengan '\\x' diikuti oleh dua karakter huruf atau angka\n",
    "        text = re.sub(r'[^\\x00-\\x7F]+', '', text)  # Remove non-ASCII characters\n",
    "        text = text.replace('_', ' ')  # Menghapus underscore\n",
    "        text = re.sub(r'(\\d+)', r' \\1 ', text)  # Memisahkan angka dari teks\n",
    "        text = re.sub(r'\\s+', ' ', text).strip()  # Menggabungkan spasi berturut-turut menjadi satu spasi\n",
    "        text = re.sub(r'(\\d+)', lambda x: num2words(int(x.group(0)), lang='id'), text)  # Mengonversi angka menjadi kata\n",
    "        cleaned_text.append(text)\n",
    "\n",
    "    json_response = {\n",
    "        'status_code': 200,\n",
    "        'description': \"Teks yang sudah diproses\",\n",
    "        'data': cleaned_text,\n",
    "    }\n",
    "\n",
    "    response_data = jsonify(json_response)\n",
    "    return response_data\n",
    "\n",
    "if __name__ == '__main__':\n",
    "   app.run()"
   ]
  }
 ],
 "metadata": {
  "kernelspec": {
   "display_name": "Python 3 (ipykernel)",
   "language": "python",
   "name": "python3"
  },
  "language_info": {
   "codemirror_mode": {
    "name": "ipython",
    "version": 3
   },
   "file_extension": ".py",
   "mimetype": "text/x-python",
   "name": "python",
   "nbconvert_exporter": "python",
   "pygments_lexer": "ipython3",
   "version": "3.9.18"
  }
 },
 "nbformat": 4,
 "nbformat_minor": 5
}
